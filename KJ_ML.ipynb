{
 "cells": [
  {
   "cell_type": "markdown",
   "metadata": {},
   "source": [
    "# Import library "
   ]
  },
  {
   "cell_type": "code",
   "execution_count": 2,
   "metadata": {},
   "outputs": [],
   "source": [
    "from __future__ import absolute_import, division, print_function, unicode_literals\n",
    "import os\n",
    "import tensorflow as tf\n",
    "import numpy as np\n",
    "import matplotlib.pyplot as plt\n",
    "import sys\n",
    "\n"
   ]
  },
  {
   "cell_type": "markdown",
   "metadata": {},
   "source": [
    "# Set arguments"
   ]
  },
  {
   "cell_type": "markdown",
   "metadata": {},
   "source": [
    "## Arguments for machine"
   ]
  },
  {
   "cell_type": "code",
   "execution_count": 3,
   "metadata": {},
   "outputs": [],
   "source": [
    "MACHINE = \"CPU\" #\"CPU\", \"GPU\", \"GPUs\" #str(sys.argv[1])\n",
    "DEVICES = \"-1\" #\"-1\", \"0\", \"0,1\" #str(sys.argv[2]) \n"
   ]
  },
  {
   "cell_type": "code",
   "execution_count": null,
   "metadata": {},
   "outputs": [],
   "source": []
  },
  {
   "cell_type": "code",
   "execution_count": null,
   "metadata": {},
   "outputs": [],
   "source": []
  },
  {
   "cell_type": "markdown",
   "metadata": {},
   "source": [
    "## Arguments for dataset"
   ]
  },
  {
   "cell_type": "markdown",
   "metadata": {},
   "source": [
    "### Simulating metapopulation of SI"
   ]
  },
  {
   "cell_type": "code",
   "execution_count": 4,
   "metadata": {},
   "outputs": [],
   "source": [
    "SYSTEM_SIZE = 10\n",
    "NUM_STATE = 2\n",
    "TIME_LENGTH = 51\n"
   ]
  },
  {
   "cell_type": "markdown",
   "metadata": {},
   "source": [
    "### Sampling data"
   ]
  },
  {
   "cell_type": "code",
   "execution_count": 5,
   "metadata": {},
   "outputs": [],
   "source": [
    "NUM_ENSEMBLE = 100\n",
    "TRAIN_INI = 0\n",
    "TRAIN_FIN = 80\n",
    "VALID_INI = 80\n",
    "VALID_FIN = 90\n",
    "TEST_INI = 90\n",
    "TEST_FIN = 100"
   ]
  },
  {
   "cell_type": "code",
   "execution_count": null,
   "metadata": {},
   "outputs": [],
   "source": []
  },
  {
   "cell_type": "markdown",
   "metadata": {},
   "source": [
    "## Arguments for model and training"
   ]
  },
  {
   "cell_type": "code",
   "execution_count": 8,
   "metadata": {},
   "outputs": [],
   "source": [
    "MODEL = \"AMFF\"\n",
    "LABEL = 1\n",
    "TRIAL = 0 #int(sys.argv[13])\n",
    "BATCHING = 50 #int(sys.argv[3])\n",
    "LEARNING_RATE = 1e-4 #float(sys.argv[4])\n",
    "MAX_EPOCH = 100 #int(sys.argv[12])\n"
   ]
  },
  {
   "cell_type": "code",
   "execution_count": null,
   "metadata": {},
   "outputs": [],
   "source": []
  },
  {
   "cell_type": "code",
   "execution_count": null,
   "metadata": {},
   "outputs": [],
   "source": []
  },
  {
   "cell_type": "code",
   "execution_count": null,
   "metadata": {},
   "outputs": [],
   "source": []
  },
  {
   "cell_type": "code",
   "execution_count": null,
   "metadata": {},
   "outputs": [],
   "source": []
  },
  {
   "cell_type": "code",
   "execution_count": null,
   "metadata": {},
   "outputs": [],
   "source": []
  },
  {
   "cell_type": "code",
   "execution_count": null,
   "metadata": {},
   "outputs": [],
   "source": []
  },
  {
   "cell_type": "markdown",
   "metadata": {},
   "source": [
    "# Set environment "
   ]
  },
  {
   "cell_type": "markdown",
   "metadata": {},
   "source": [
    "## to save model"
   ]
  },
  {
   "cell_type": "code",
   "execution_count": 9,
   "metadata": {},
   "outputs": [],
   "source": [
    "dir_a = '/pds/pds172/hoyun1009/data/MLMP/MLMP_SI_Tracer/saves/'\n",
    "dir_b = '/pds/pds172/hoyun1009/data/MLMP/MLMP_SI_Tracer/saves/N{N:d}T{T:d}/'\n",
    "dir_c = '/pds/pds172/hoyun1009/data/MLMP/MLMP_SI_Tracer/saves/N{N:d}T{T:d}/{M:s}_{L:d}/'\n",
    "if not os.path.exists(dir_a):\n",
    "    os.mkdir(dir_a)\n",
    "if not os.path.exists(dir_b.format(N = SYSTEM_SIZE, T = TIME_LENGTH)):\n",
    "    os.mkdir(dir_b.format(N = SYSTEM_SIZE, T = TIME_LENGTH))\n",
    "if not os.path.exists(dir_c.format(N = SYSTEM_SIZE, T = TIME_LENGTH, M = MODEL, L = LABEL)):\n",
    "    os.mkdir(dir_c.format(N = SYSTEM_SIZE, T = TIME_LENGTH, M = MODEL, L = LABEL))\n"
   ]
  },
  {
   "cell_type": "code",
   "execution_count": null,
   "metadata": {},
   "outputs": [],
   "source": []
  },
  {
   "cell_type": "markdown",
   "metadata": {},
   "source": [
    "# Design and compile models"
   ]
  },
  {
   "cell_type": "markdown",
   "metadata": {},
   "source": [
    "## Modeling and compiling"
   ]
  },
  {
   "cell_type": "code",
   "execution_count": 10,
   "metadata": {},
   "outputs": [],
   "source": [
    "def ann(model, label):\n",
    "    \n",
    "    if model == \"AMFF\":\n",
    "        state = tf.keras.Input(shape = (SYSTEM_SIZE, NUM_STATE,), dtype = tf.float32)\n",
    "        #------------Dense,...------------------\n",
    "        adjacency = tf.keras.Input(shape = (SYSTEM_SIZE, SYSTEM_SIZE,), dtype = tf.float32)\n",
    "        #------------Dense,...------------------\n",
    "        \n",
    "\n",
    "        x = tf.keras.layers.Attention()([state, state])\n",
    "        x = tf.einsum('...ij,...jk->...ik', adjacency, x)\n",
    "        x = tf.keras.layers.Flatten()(x)\n",
    "        x = tf.keras.layers.Dense(SYSTEM_SIZE * NUM_STATE * label, activation = tf.keras.activations.relu)(x)\n",
    "        x = tf.keras.layers.Dense(SYSTEM_SIZE * NUM_STATE, activation = tf.keras.activations.relu)(x)\n",
    "        output = tf.keras.layers.Reshape((SYSTEM_SIZE, NUM_STATE,), input_shape=(SYSTEM_SIZE * NUM_STATE,))(x)\n",
    "\n",
    "    \n",
    "\n",
    "    model = tf.keras.Model([state, adjacency], output)\n",
    "    model.compile(optimizer = tf.keras.optimizers.RMSprop(learning_rate=LEARNING_RATE), loss = tf.keras.losses.MSE)\n",
    "\n",
    "    return model\n"
   ]
  },
  {
   "cell_type": "markdown",
   "metadata": {},
   "source": [
    "## Load model on the machine"
   ]
  },
  {
   "cell_type": "code",
   "execution_count": 11,
   "metadata": {},
   "outputs": [],
   "source": [
    "if MACHINE == 'GPUs':\n",
    "    os.environ[\"CUDA_VISIBLE_DEVICES\"] = DEVICES\n",
    "    strategy = tf.distribute.MirroredStrategy()\n",
    "    BATCH_SIZE_REP = BATCHING\n",
    "    BATCH_SIZE = BATCH_SIZE_REP * strategy.num_replicas_in_sync\n",
    "    SHUFFLE_BUFFER_SIZE = BATCH_SIZE * 4\n",
    "    THREAD_DATA = 2 * strategy.num_replicas_in_sync\n",
    "    with strategy.scope():\n",
    "        model = ann(MODEL, LABEL)\n",
    "elif MACHINE == 'CPU' or  MACHINE == 'GPU':\n",
    "    os.environ[\"CUDA_VISIBLE_DEVICES\"] = DEVICES\n",
    "    BATCH_SIZE = BATCHING\n",
    "    SHUFFLE_BUFFER_SIZE = BATCH_SIZE * 4\n",
    "    THREAD_DATA = 2\n",
    "    model = ann(MODEL, LABEL)\n",
    "else:\n",
    "    print(\"Select MACHINE : CPU/GPU/GPUs\")\n",
    "    raise SystemExit\n",
    "\n",
    "    "
   ]
  },
  {
   "cell_type": "markdown",
   "metadata": {},
   "source": [
    "## Save the structure of the model"
   ]
  },
  {
   "cell_type": "code",
   "execution_count": 12,
   "metadata": {},
   "outputs": [
    {
     "output_type": "execute_result",
     "data": {
      "image/png": "[encoded data removed]",
      "text/plain": [
       "<IPython.core.display.Image object>"
      ]
     },
     "metadata": {},
     "execution_count": 12
    }
   ],
   "source": [
    "\n",
    "struct = '/pds/pds172/hoyun1009/data/MLMP/MLMP_SI_Tracer/saves/N{N:d}T{T:d}/{M:s}_{L:d}/struct.png'\n",
    "\n",
    "tf.keras.utils.plot_model(model, to_file = struct.format(N = SYSTEM_SIZE, T = TIME_LENGTH, M = MODEL, L = LABEL), show_shapes = True, show_layer_names = False, rankdir = 'LR')\n"
   ]
  },
  {
   "cell_type": "code",
   "execution_count": null,
   "metadata": {},
   "outputs": [],
   "source": []
  },
  {
   "cell_type": "code",
   "execution_count": null,
   "metadata": {},
   "outputs": [],
   "source": []
  },
  {
   "cell_type": "markdown",
   "metadata": {},
   "source": [
    "# Make dataset"
   ]
  },
  {
   "cell_type": "markdown",
   "metadata": {},
   "source": [
    "## Training dataset"
   ]
  },
  {
   "cell_type": "code",
   "execution_count": 14,
   "metadata": {},
   "outputs": [],
   "source": [
    "# timeline = np.random.rand(TIME_LENGTH, SYSTEM_SIZE, NUM_STATE)\n",
    "timeline = np.loadtxt(\"/pds/pds151/MPML/N1e1M2D3/input.txt\", dtype=np.int64)\n",
    "timeline = timeline.reshape(NUM_ENSEMBLE, TIME_LENGTH, SYSTEM_SIZE, NUM_STATE)"
   ]
  },
  {
   "cell_type": "code",
   "execution_count": 15,
   "metadata": {},
   "outputs": [],
   "source": [
    "# adjacency = np.random.randint(2, size=(1, SYSTEM_SIZE, SYSTEM_SIZE))\n",
    "adjacency = np.loadtxt(\"/pds/pds151/MPML/N1e1M2D3/network_bool.txt\", dtype=np.int64)\n",
    "adjacency = adjacency.reshape(NUM_ENSEMBLE, 1, SYSTEM_SIZE, SYSTEM_SIZE)"
   ]
  },
  {
   "cell_type": "code",
   "execution_count": 16,
   "metadata": {},
   "outputs": [],
   "source": [
    "number_of_train = (TRAIN_FIN - TRAIN_INI) * (TIME_LENGTH - 1)\n",
    "input_time_train = tf.data.Dataset.from_tensor_slices(tf.cast(timeline[TRAIN_INI : TRAIN_FIN, 0 : TIME_LENGTH - 1].reshape(number_of_train, SYSTEM_SIZE, NUM_STATE), dtype=tf.float32))\n",
    "output_time_train = tf.data.Dataset.from_tensor_slices(tf.cast(timeline[TRAIN_INI : TRAIN_FIN, 1 : TIME_LENGTH ].reshape(number_of_train, SYSTEM_SIZE, NUM_STATE), dtype=tf.float32))\n",
    "adjacency_train = tf.data.Dataset.from_tensor_slices(tf.cast(tf.reshape(tf.tile(adjacency[TRAIN_INI : TRAIN_FIN], tf.constant([1, (TIME_LENGTH - 1), 1, 1], tf.int64)),[number_of_train, SYSTEM_SIZE, SYSTEM_SIZE]), dtype=tf.float32))\n",
    "dataset_train =  tf.data.Dataset.zip(((input_time_train, adjacency_train), output_time_train)).cache().shuffle(SHUFFLE_BUFFER_SIZE).repeat().batch(BATCH_SIZE, drop_remainder = True).prefetch(buffer_size = tf.data.experimental.AUTOTUNE)\n"
   ]
  },
  {
   "cell_type": "code",
   "execution_count": 17,
   "metadata": {},
   "outputs": [],
   "source": [
    "number_of_valid = (VALID_FIN - VALID_INI) * (TIME_LENGTH - 1)\n",
    "input_time_valid = tf.data.Dataset.from_tensor_slices(tf.cast(timeline[VALID_INI : VALID_FIN, 0 : TIME_LENGTH - 1].reshape(number_of_valid, SYSTEM_SIZE, NUM_STATE), dtype=tf.float32))\n",
    "output_time_valid = tf.data.Dataset.from_tensor_slices(tf.cast(timeline[VALID_INI : VALID_FIN, 1 : TIME_LENGTH].reshape(number_of_valid, SYSTEM_SIZE, NUM_STATE), dtype=tf.float32))\n",
    "adjacency_valid = tf.data.Dataset.from_tensor_slices(tf.cast(tf.reshape(tf.tile(adjacency[VALID_INI : VALID_FIN], tf.constant([1, (TIME_LENGTH - 1), 1, 1], tf.int64)),[number_of_valid, SYSTEM_SIZE, SYSTEM_SIZE]), dtype=tf.float32))\n",
    "dataset_valid =  tf.data.Dataset.zip(((input_time_valid, adjacency_valid), output_time_valid)).cache().shuffle(SHUFFLE_BUFFER_SIZE).repeat().batch(BATCH_SIZE, drop_remainder = True).prefetch(buffer_size = tf.data.experimental.AUTOTUNE)\n"
   ]
  },
  {
   "cell_type": "code",
   "execution_count": null,
   "metadata": {},
   "outputs": [],
   "source": []
  },
  {
   "cell_type": "code",
   "execution_count": null,
   "metadata": {},
   "outputs": [],
   "source": []
  },
  {
   "cell_type": "code",
   "execution_count": null,
   "metadata": {},
   "outputs": [],
   "source": []
  },
  {
   "cell_type": "markdown",
   "metadata": {},
   "source": [
    "# Train the model  "
   ]
  },
  {
   "cell_type": "code",
   "execution_count": 18,
   "metadata": {},
   "outputs": [
    {
     "output_type": "stream",
     "name": "stdout",
     "text": [
      "Epoch 1/100\n",
      "80/80 [==============================] - 2s 26ms/step - loss: 1447087.0000 - val_loss: 1105044.0000\n",
      "Epoch 2/100\n",
      "80/80 [==============================] - 1s 11ms/step - loss: 1067185.8750 - val_loss: 798761.1875\n",
      "Epoch 3/100\n",
      "80/80 [==============================] - 1s 6ms/step - loss: 812339.0625 - val_loss: 605758.0625\n",
      "Epoch 4/100\n",
      "80/80 [==============================] - 0s 6ms/step - loss: 645339.6250 - val_loss: 491044.4688\n",
      "Epoch 5/100\n",
      "80/80 [==============================] - 1s 12ms/step - loss: 540458.6875 - val_loss: 430837.5625\n",
      "Epoch 6/100\n",
      "80/80 [==============================] - 0s 5ms/step - loss: 476605.3125 - val_loss: 396926.5625\n",
      "Epoch 7/100\n",
      "80/80 [==============================] - 1s 8ms/step - loss: 439013.2500 - val_loss: 377699.5000\n",
      "Epoch 8/100\n",
      "80/80 [==============================] - 1s 10ms/step - loss: 415607.5312 - val_loss: 366519.5000\n",
      "Epoch 9/100\n",
      "80/80 [==============================] - 0s 6ms/step - loss: 400143.5312 - val_loss: 358338.6562\n",
      "Epoch 10/100\n",
      "80/80 [==============================] - 1s 9ms/step - loss: 387766.1250 - val_loss: 350776.9375\n",
      "Epoch 11/100\n",
      "80/80 [==============================] - 0s 6ms/step - loss: 376577.4688 - val_loss: 341677.8750\n",
      "Epoch 12/100\n",
      "80/80 [==============================] - 0s 5ms/step - loss: 366355.5938 - val_loss: 331687.0312\n",
      "Epoch 13/100\n",
      "80/80 [==============================] - 0s 5ms/step - loss: 357876.5000 - val_loss: 324464.5312\n",
      "Epoch 14/100\n",
      "80/80 [==============================] - 1s 7ms/step - loss: 350336.0000 - val_loss: 316471.7188\n",
      "Epoch 15/100\n",
      "80/80 [==============================] - 1s 9ms/step - loss: 343524.1562 - val_loss: 305322.0625\n",
      "Epoch 16/100\n",
      "80/80 [==============================] - 0s 6ms/step - loss: 336221.8438 - val_loss: 292817.9688\n",
      "Epoch 17/100\n",
      "80/80 [==============================] - 1s 11ms/step - loss: 327627.1875 - val_loss: 284008.8750\n",
      "Epoch 18/100\n",
      "80/80 [==============================] - 1s 7ms/step - loss: 319102.1875 - val_loss: 277997.5625\n",
      "Epoch 19/100\n",
      "80/80 [==============================] - 1s 9ms/step - loss: 310306.9375 - val_loss: 272733.8125\n",
      "Epoch 20/100\n",
      "80/80 [==============================] - 1s 7ms/step - loss: 301495.0000 - val_loss: 268407.4688\n",
      "Epoch 21/100\n",
      "80/80 [==============================] - 1s 7ms/step - loss: 293760.8750 - val_loss: 265720.2812\n",
      "Epoch 22/100\n",
      "80/80 [==============================] - 1s 12ms/step - loss: 286520.2500 - val_loss: 262736.0938\n",
      "Epoch 23/100\n",
      "80/80 [==============================] - 1s 7ms/step - loss: 280272.7812 - val_loss: 260044.3438\n",
      "Epoch 24/100\n",
      "80/80 [==============================] - 1s 12ms/step - loss: 273927.6562 - val_loss: 255673.0156\n",
      "Epoch 25/100\n",
      "80/80 [==============================] - 1s 7ms/step - loss: 267865.3125 - val_loss: 252465.4219\n",
      "Epoch 26/100\n",
      "80/80 [==============================] - 0s 5ms/step - loss: 262107.7969 - val_loss: 249133.5938\n",
      "Epoch 27/100\n",
      "80/80 [==============================] - 1s 12ms/step - loss: 256794.3438 - val_loss: 244537.6094\n",
      "Epoch 28/100\n",
      "80/80 [==============================] - 1s 7ms/step - loss: 251845.1094 - val_loss: 241023.7344\n",
      "Epoch 29/100\n",
      "80/80 [==============================] - 1s 7ms/step - loss: 247040.5000 - val_loss: 238282.5781\n",
      "Epoch 30/100\n",
      "80/80 [==============================] - 0s 6ms/step - loss: 242354.2344 - val_loss: 235414.4375\n",
      "Epoch 31/100\n",
      "80/80 [==============================] - 0s 5ms/step - loss: 237737.6406 - val_loss: 231782.8281\n",
      "Epoch 32/100\n",
      "80/80 [==============================] - 0s 6ms/step - loss: 233026.0312 - val_loss: 227839.7812\n",
      "Epoch 33/100\n",
      "80/80 [==============================] - 1s 7ms/step - loss: 228390.8750 - val_loss: 224867.0312\n",
      "Epoch 34/100\n",
      "80/80 [==============================] - 1s 11ms/step - loss: 224010.2031 - val_loss: 222716.6094\n",
      "Epoch 35/100\n",
      "80/80 [==============================] - 1s 9ms/step - loss: 219690.5000 - val_loss: 221228.4531\n",
      "Epoch 36/100\n",
      "80/80 [==============================] - 1s 7ms/step - loss: 215602.8594 - val_loss: 219454.3125\n",
      "Epoch 37/100\n",
      "80/80 [==============================] - 1s 8ms/step - loss: 211561.9062 - val_loss: 218449.3750\n",
      "Epoch 38/100\n",
      "80/80 [==============================] - 0s 6ms/step - loss: 207871.7344 - val_loss: 216654.0625\n",
      "Epoch 39/100\n",
      "80/80 [==============================] - 1s 6ms/step - loss: 204333.7188 - val_loss: 215336.5312\n",
      "Epoch 40/100\n",
      "80/80 [==============================] - 1s 7ms/step - loss: 200998.6094 - val_loss: 214266.8750\n",
      "Epoch 41/100\n",
      "80/80 [==============================] - 1s 7ms/step - loss: 197829.1094 - val_loss: 211871.7031\n",
      "Epoch 42/100\n",
      "80/80 [==============================] - 1s 14ms/step - loss: 194787.8906 - val_loss: 209902.9375\n",
      "Epoch 43/100\n",
      "80/80 [==============================] - 1s 10ms/step - loss: 191880.4375 - val_loss: 208631.0469\n",
      "Epoch 44/100\n",
      "80/80 [==============================] - 1s 7ms/step - loss: 189112.4062 - val_loss: 207416.8594\n",
      "Epoch 45/100\n",
      "80/80 [==============================] - 1s 7ms/step - loss: 186494.8281 - val_loss: 205932.7969\n",
      "Epoch 46/100\n",
      "80/80 [==============================] - 0s 5ms/step - loss: 184127.2500 - val_loss: 204438.5781\n",
      "Epoch 47/100\n",
      "80/80 [==============================] - 0s 6ms/step - loss: 181836.6250 - val_loss: 202911.9375\n",
      "Epoch 48/100\n",
      "80/80 [==============================] - 1s 9ms/step - loss: 179737.3281 - val_loss: 201963.1094\n",
      "Epoch 49/100\n",
      "80/80 [==============================] - 0s 5ms/step - loss: 177691.6094 - val_loss: 200551.5156\n",
      "Epoch 50/100\n",
      "80/80 [==============================] - 0s 6ms/step - loss: 175684.6250 - val_loss: 198997.4062\n",
      "Epoch 51/100\n",
      "80/80 [==============================] - 0s 3ms/step - loss: 173812.2031 - val_loss: 197451.8281\n",
      "Epoch 52/100\n",
      "80/80 [==============================] - 0s 4ms/step - loss: 171990.2344 - val_loss: 195929.7969\n",
      "Epoch 53/100\n",
      "80/80 [==============================] - 1s 7ms/step - loss: 170230.6719 - val_loss: 194589.5781\n",
      "Epoch 54/100\n",
      "80/80 [==============================] - 1s 7ms/step - loss: 168478.7344 - val_loss: 193158.6406\n",
      "Epoch 55/100\n",
      "80/80 [==============================] - 0s 5ms/step - loss: 166814.0625 - val_loss: 191925.5156\n",
      "Epoch 56/100\n",
      "80/80 [==============================] - 1s 11ms/step - loss: 164932.1562 - val_loss: 190471.4531\n",
      "Epoch 57/100\n",
      "80/80 [==============================] - 0s 4ms/step - loss: 163178.9844 - val_loss: 189306.7188\n",
      "Epoch 58/100\n",
      "80/80 [==============================] - 0s 6ms/step - loss: 161363.5781 - val_loss: 187941.9375\n",
      "Epoch 59/100\n",
      "80/80 [==============================] - 0s 3ms/step - loss: 159550.7656 - val_loss: 186298.2812\n",
      "Epoch 60/100\n",
      "80/80 [==============================] - 1s 7ms/step - loss: 157678.1094 - val_loss: 184760.3438\n",
      "Epoch 61/100\n",
      "80/80 [==============================] - 0s 3ms/step - loss: 155902.5000 - val_loss: 182469.1094\n",
      "Epoch 62/100\n",
      "80/80 [==============================] - 0s 3ms/step - loss: 154217.8750 - val_loss: 180273.7969\n",
      "Epoch 63/100\n",
      "80/80 [==============================] - 0s 4ms/step - loss: 152692.5156 - val_loss: 178336.6250\n",
      "Epoch 64/100\n",
      "80/80 [==============================] - 0s 5ms/step - loss: 151282.3906 - val_loss: 176324.0469\n",
      "Epoch 65/100\n",
      "80/80 [==============================] - 1s 7ms/step - loss: 149846.8281 - val_loss: 174361.8281\n",
      "Epoch 66/100\n",
      "80/80 [==============================] - 0s 6ms/step - loss: 148509.7500 - val_loss: 173276.6250\n",
      "Epoch 67/100\n",
      "80/80 [==============================] - 0s 4ms/step - loss: 147335.2812 - val_loss: 172121.6562\n",
      "Epoch 68/100\n",
      "80/80 [==============================] - 0s 6ms/step - loss: 146173.2031 - val_loss: 170658.4844\n",
      "Epoch 69/100\n",
      "80/80 [==============================] - 1s 10ms/step - loss: 145104.4531 - val_loss: 169646.1094\n",
      "Epoch 70/100\n",
      "80/80 [==============================] - 0s 6ms/step - loss: 144010.6406 - val_loss: 168675.8906\n",
      "Epoch 71/100\n",
      "80/80 [==============================] - 1s 6ms/step - loss: 142913.7344 - val_loss: 168034.1406\n",
      "Epoch 72/100\n",
      "80/80 [==============================] - 0s 4ms/step - loss: 141918.6250 - val_loss: 167377.4375\n",
      "Epoch 73/100\n",
      "80/80 [==============================] - 0s 4ms/step - loss: 140883.2500 - val_loss: 166329.8594\n",
      "Epoch 74/100\n",
      "80/80 [==============================] - 1s 7ms/step - loss: 139931.9375 - val_loss: 165559.6406\n",
      "Epoch 75/100\n",
      "80/80 [==============================] - 0s 5ms/step - loss: 138993.5938 - val_loss: 164957.2188\n",
      "Epoch 76/100\n",
      "80/80 [==============================] - 0s 5ms/step - loss: 138102.1562 - val_loss: 164220.9688\n",
      "Epoch 77/100\n",
      "80/80 [==============================] - 1s 8ms/step - loss: 137217.2969 - val_loss: 163360.0938\n",
      "Epoch 78/100\n",
      "80/80 [==============================] - 0s 4ms/step - loss: 136338.9375 - val_loss: 162708.1562\n",
      "Epoch 79/100\n",
      "80/80 [==============================] - 1s 8ms/step - loss: 135398.5781 - val_loss: 161899.4688\n",
      "Epoch 80/100\n",
      "80/80 [==============================] - 1s 10ms/step - loss: 134502.0625 - val_loss: 161253.7969\n",
      "Epoch 81/100\n",
      "80/80 [==============================] - 0s 5ms/step - loss: 133675.7344 - val_loss: 160712.4219\n",
      "Epoch 82/100\n",
      "80/80 [==============================] - 0s 5ms/step - loss: 132885.1875 - val_loss: 159924.1719\n",
      "Epoch 83/100\n",
      "80/80 [==============================] - 0s 5ms/step - loss: 132062.8906 - val_loss: 158797.1094\n",
      "Epoch 84/100\n",
      "80/80 [==============================] - 0s 6ms/step - loss: 131351.4688 - val_loss: 158198.7344\n",
      "Epoch 85/100\n",
      "80/80 [==============================] - 0s 5ms/step - loss: 130660.3672 - val_loss: 157602.6406\n",
      "Epoch 86/100\n",
      "80/80 [==============================] - 0s 4ms/step - loss: 129997.0703 - val_loss: 156484.5625\n",
      "Epoch 87/100\n",
      "80/80 [==============================] - 1s 6ms/step - loss: 129329.2188 - val_loss: 155588.0312\n",
      "Epoch 88/100\n",
      "80/80 [==============================] - 1s 8ms/step - loss: 128687.6641 - val_loss: 154508.1875\n",
      "Epoch 89/100\n",
      "80/80 [==============================] - 0s 5ms/step - loss: 128096.5469 - val_loss: 153876.2344\n",
      "Epoch 90/100\n",
      "80/80 [==============================] - 0s 4ms/step - loss: 127475.9062 - val_loss: 152729.7656\n",
      "Epoch 91/100\n",
      "80/80 [==============================] - 0s 5ms/step - loss: 126932.9688 - val_loss: 151849.5781\n",
      "Epoch 92/100\n",
      "80/80 [==============================] - 1s 8ms/step - loss: 126412.8984 - val_loss: 150813.3125\n",
      "Epoch 93/100\n",
      "80/80 [==============================] - 1s 7ms/step - loss: 125860.9922 - val_loss: 149707.7344\n",
      "Epoch 94/100\n",
      "80/80 [==============================] - 1s 6ms/step - loss: 125387.1719 - val_loss: 148782.6562\n",
      "Epoch 95/100\n",
      "80/80 [==============================] - 0s 4ms/step - loss: 124895.6328 - val_loss: 148028.5469\n",
      "Epoch 96/100\n",
      "80/80 [==============================] - 0s 4ms/step - loss: 124473.3047 - val_loss: 147476.4219\n",
      "Epoch 97/100\n",
      "80/80 [==============================] - 0s 4ms/step - loss: 123993.7031 - val_loss: 146780.5625\n",
      "Epoch 98/100\n",
      "80/80 [==============================] - 0s 3ms/step - loss: 123545.6953 - val_loss: 146018.0000\n",
      "Epoch 99/100\n",
      "80/80 [==============================] - 0s 6ms/step - loss: 123071.1016 - val_loss: 145367.0312\n",
      "Epoch 100/100\n",
      "80/80 [==============================] - 1s 8ms/step - loss: 122659.8984 - val_loss: 144938.4688\n"
     ]
    }
   ],
   "source": [
    "history = model.fit(dataset_train, verbose = 1, epochs = MAX_EPOCH, steps_per_epoch = int(number_of_train / BATCH_SIZE), validation_data = dataset_valid, validation_steps = int(number_of_valid / BATCH_SIZE))\n",
    "# earlystop_callbacks = [tf.keras.callbacks.EarlyStopping(monitor = 'val_loss', patience = MAX_EPOCH, restore_best_weights = True)]\n",
    "# earlystop_callbacks = [tf.keras.callbacks.EarlyStopping(monitor = 'val_loss', patience = MAX_EPOCH)]\n",
    "# history = model.fit(dataset_train, verbose = 0, epochs = int(10 * MAX_EPOCH), steps_per_epoch = int(number_of_train / BATCH_SIZE), validation_data = dataset_valid, validation_steps = int(number_of_valid / BATCH_SIZE), callbacks = earlystop_callbacks)\n"
   ]
  },
  {
   "cell_type": "code",
   "execution_count": null,
   "metadata": {},
   "outputs": [],
   "source": [
    "\n",
    "\n"
   ]
  },
  {
   "cell_type": "markdown",
   "metadata": {},
   "source": [
    "## To record history"
   ]
  },
  {
   "cell_type": "code",
   "execution_count": 19,
   "metadata": {},
   "outputs": [],
   "source": [
    "history_pdf = '/pds/pds172/hoyun1009/data/MLMP/MLMP_SI_Tracer/saves/N{N:d}T{T:d}/{M:s}_{L:d}/history_{trial:d}.pdf'\n",
    "history_dat = '/pds/pds172/hoyun1009/data/MLMP/MLMP_SI_Tracer/saves/N{N:d}T{T:d}/{M:s}_{L:d}/history_{trial:d}.dat'\n"
   ]
  },
  {
   "cell_type": "code",
   "execution_count": null,
   "metadata": {},
   "outputs": [],
   "source": []
  },
  {
   "cell_type": "code",
   "execution_count": 20,
   "metadata": {},
   "outputs": [],
   "source": [
    "def plot_history(hist, filename):\n",
    "    plt.clf()\n",
    "    plt.xlabel('Epoch')\n",
    "    plt.ylabel('loss')\n",
    "    plt.plot(hist[:,0], label='Train')\n",
    "    plt.plot(hist[:,1], label = 'Validation')\n",
    "    plt.legend()\n",
    "    plt.tight_layout()\n",
    "    plt.savefig(filename)\n",
    "\n"
   ]
  },
  {
   "cell_type": "code",
   "execution_count": 21,
   "metadata": {},
   "outputs": [],
   "source": [
    "hist = np.column_stack((history.history['loss'], history.history['val_loss']))\n",
    "\n"
   ]
  },
  {
   "cell_type": "code",
   "execution_count": null,
   "metadata": {},
   "outputs": [],
   "source": []
  },
  {
   "cell_type": "code",
   "execution_count": 22,
   "metadata": {},
   "outputs": [
    {
     "output_type": "display_data",
     "data": {
      "text/plain": "<Figure size 432x288 with 1 Axes>",
      "image/svg+xml": "<?xml version=\"1.0\" encoding=\"utf-8\" standalone=\"no\"?>\n<!DOCTYPE svg PUBLIC \"-//W3C//DTD SVG 1.1//EN\"\n  \"http://www.w3.org/Graphics/SVG/1.1/DTD/svg11.dtd\">\n<!-- Created with matplotlib (https://matplotlib.org/) -->\n<svg height=\"279.754687pt\" version=\"1.1\" viewBox=\"0 0 424.38125 279.754687\" width=\"424.38125pt\" xmlns=\"http://www.w3.org/2000/svg\" xmlns:xlink=\"http://www.w3.org/1999/xlink\">\n <metadata>\n  <rdf:RDF xmlns:cc=\"http://creativecommons.org/ns#\" xmlns:dc=\"http://purl.org/dc/elements/1.1/\" xmlns:rdf=\"http://www.w3.org/1999/02/22-rdf-syntax-ns#\">\n   <cc:Work>\n    <dc:type rdf:resource=\"http://purl.org/dc/dcmitype/StillImage\"/>\n    <dc:date>2021-02-04T17:01:13.884884</dc:date>\n    <dc:format>image/svg+xml</dc:format>\n    <dc:creator>\n     <cc:Agent>\n      <dc:title>Matplotlib v3.3.1, https://matplotlib.org/</dc:title>\n     </cc:Agent>\n    </dc:creator>\n   </cc:Work>\n  </rdf:RDF>\n </metadata>\n <defs>\n  <style type=\"text/css\">*{stroke-linecap:butt;stroke-linejoin:round;}</style>\n </defs>\n <g id=\"figure_1\">\n  <g id=\"patch_1\">\n   <path d=\"M 0 279.754687 \nL 424.38125 279.754687 \nL 424.38125 0 \nL 0 0 \nz\n\" style=\"fill:none;\"/>\n  </g>\n  <g id=\"axes_1\">\n   <g id=\"patch_2\">\n    <path d=\"M 43.78125 242.198437 \nL 417.18125 242.198437 \nL 417.18125 17.798437 \nL 43.78125 17.798437 \nz\n\" style=\"fill:#ffffff;\"/>\n   </g>\n   <g id=\"matplotlib.axis_1\">\n    <g id=\"xtick_1\">\n     <g id=\"line2d_1\">\n      <defs>\n       <path d=\"M 0 0 \nL 0 3.5 \n\" id=\"m3a5d1f66e6\" style=\"stroke:#000000;stroke-width:0.8;\"/>\n      </defs>\n      <g>\n       <use style=\"stroke:#000000;stroke-width:0.8;\" x=\"60.753977\" xlink:href=\"#m3a5d1f66e6\" y=\"242.198437\"/>\n      </g>\n     </g>\n     <g id=\"text_1\">\n      <!-- 0 -->\n      <g transform=\"translate(57.572727 256.796875)scale(0.1 -0.1)\">\n       <defs>\n        <path d=\"M 31.78125 66.40625 \nQ 24.171875 66.40625 20.328125 58.90625 \nQ 16.5 51.421875 16.5 36.375 \nQ 16.5 21.390625 20.328125 13.890625 \nQ 24.171875 6.390625 31.78125 6.390625 \nQ 39.453125 6.390625 43.28125 13.890625 \nQ 47.125 21.390625 47.125 36.375 \nQ 47.125 51.421875 43.28125 58.90625 \nQ 39.453125 66.40625 31.78125 66.40625 \nz\nM 31.78125 74.21875 \nQ 44.046875 74.21875 50.515625 64.515625 \nQ 56.984375 54.828125 56.984375 36.375 \nQ 56.984375 17.96875 50.515625 8.265625 \nQ 44.046875 -1.421875 31.78125 -1.421875 \nQ 19.53125 -1.421875 13.0625 8.265625 \nQ 6.59375 17.96875 6.59375 36.375 \nQ 6.59375 54.828125 13.0625 64.515625 \nQ 19.53125 74.21875 31.78125 74.21875 \nz\n\" id=\"DejaVuSans-48\"/>\n       </defs>\n       <use xlink:href=\"#DejaVuSans-48\"/>\n      </g>\n     </g>\n    </g>\n    <g id=\"xtick_2\">\n     <g id=\"line2d_2\">\n      <g>\n       <use style=\"stroke:#000000;stroke-width:0.8;\" x=\"129.330653\" xlink:href=\"#m3a5d1f66e6\" y=\"242.198437\"/>\n      </g>\n     </g>\n     <g id=\"text_2\">\n      <!-- 20 -->\n      <g transform=\"translate(122.968153 256.796875)scale(0.1 -0.1)\">\n       <defs>\n        <path d=\"M 19.1875 8.296875 \nL 53.609375 8.296875 \nL 53.609375 0 \nL 7.328125 0 \nL 7.328125 8.296875 \nQ 12.9375 14.109375 22.625 23.890625 \nQ 32.328125 33.6875 34.8125 36.53125 \nQ 39.546875 41.84375 41.421875 45.53125 \nQ 43.3125 49.21875 43.3125 52.78125 \nQ 43.3125 58.59375 39.234375 62.25 \nQ 35.15625 65.921875 28.609375 65.921875 \nQ 23.96875 65.921875 18.8125 64.3125 \nQ 13.671875 62.703125 7.8125 59.421875 \nL 7.8125 69.390625 \nQ 13.765625 71.78125 18.9375 73 \nQ 24.125 74.21875 28.421875 74.21875 \nQ 39.75 74.21875 46.484375 68.546875 \nQ 53.21875 62.890625 53.21875 53.421875 \nQ 53.21875 48.921875 51.53125 44.890625 \nQ 49.859375 40.875 45.40625 35.40625 \nQ 44.1875 33.984375 37.640625 27.21875 \nQ 31.109375 20.453125 19.1875 8.296875 \nz\n\" id=\"DejaVuSans-50\"/>\n       </defs>\n       <use xlink:href=\"#DejaVuSans-50\"/>\n       <use x=\"63.623047\" xlink:href=\"#DejaVuSans-48\"/>\n      </g>\n     </g>\n    </g>\n    <g id=\"xtick_3\">\n     <g id=\"line2d_3\">\n      <g>\n       <use style=\"stroke:#000000;stroke-width:0.8;\" x=\"197.907329\" xlink:href=\"#m3a5d1f66e6\" y=\"242.198437\"/>\n      </g>\n     </g>\n     <g id=\"text_3\">\n      <!-- 40 -->\n      <g transform=\"translate(191.544829 256.796875)scale(0.1 -0.1)\">\n       <defs>\n        <path d=\"M 37.796875 64.3125 \nL 12.890625 25.390625 \nL 37.796875 25.390625 \nz\nM 35.203125 72.90625 \nL 47.609375 72.90625 \nL 47.609375 25.390625 \nL 58.015625 25.390625 \nL 58.015625 17.1875 \nL 47.609375 17.1875 \nL 47.609375 0 \nL 37.796875 0 \nL 37.796875 17.1875 \nL 4.890625 17.1875 \nL 4.890625 26.703125 \nz\n\" id=\"DejaVuSans-52\"/>\n       </defs>\n       <use xlink:href=\"#DejaVuSans-52\"/>\n       <use x=\"63.623047\" xlink:href=\"#DejaVuSans-48\"/>\n      </g>\n     </g>\n    </g>\n    <g id=\"xtick_4\">\n     <g id=\"line2d_4\">\n      <g>\n       <use style=\"stroke:#000000;stroke-width:0.8;\" x=\"266.484005\" xlink:href=\"#m3a5d1f66e6\" y=\"242.198437\"/>\n      </g>\n     </g>\n     <g id=\"text_4\">\n      <!-- 60 -->\n      <g transform=\"translate(260.121505 256.796875)scale(0.1 -0.1)\">\n       <defs>\n        <path d=\"M 33.015625 40.375 \nQ 26.375 40.375 22.484375 35.828125 \nQ 18.609375 31.296875 18.609375 23.390625 \nQ 18.609375 15.53125 22.484375 10.953125 \nQ 26.375 6.390625 33.015625 6.390625 \nQ 39.65625 6.390625 43.53125 10.953125 \nQ 47.40625 15.53125 47.40625 23.390625 \nQ 47.40625 31.296875 43.53125 35.828125 \nQ 39.65625 40.375 33.015625 40.375 \nz\nM 52.59375 71.296875 \nL 52.59375 62.3125 \nQ 48.875 64.0625 45.09375 64.984375 \nQ 41.3125 65.921875 37.59375 65.921875 \nQ 27.828125 65.921875 22.671875 59.328125 \nQ 17.53125 52.734375 16.796875 39.40625 \nQ 19.671875 43.65625 24.015625 45.921875 \nQ 28.375 48.1875 33.59375 48.1875 \nQ 44.578125 48.1875 50.953125 41.515625 \nQ 57.328125 34.859375 57.328125 23.390625 \nQ 57.328125 12.15625 50.6875 5.359375 \nQ 44.046875 -1.421875 33.015625 -1.421875 \nQ 20.359375 -1.421875 13.671875 8.265625 \nQ 6.984375 17.96875 6.984375 36.375 \nQ 6.984375 53.65625 15.1875 63.9375 \nQ 23.390625 74.21875 37.203125 74.21875 \nQ 40.921875 74.21875 44.703125 73.484375 \nQ 48.484375 72.75 52.59375 71.296875 \nz\n\" id=\"DejaVuSans-54\"/>\n       </defs>\n       <use xlink:href=\"#DejaVuSans-54\"/>\n       <use x=\"63.623047\" xlink:href=\"#DejaVuSans-48\"/>\n      </g>\n     </g>\n    </g>\n    <g id=\"xtick_5\">\n     <g id=\"line2d_5\">\n      <g>\n       <use style=\"stroke:#000000;stroke-width:0.8;\" x=\"335.060681\" xlink:href=\"#m3a5d1f66e6\" y=\"242.198437\"/>\n      </g>\n     </g>\n     <g id=\"text_5\">\n      <!-- 80 -->\n      <g transform=\"translate(328.698181 256.796875)scale(0.1 -0.1)\">\n       <defs>\n        <path d=\"M 31.78125 34.625 \nQ 24.75 34.625 20.71875 30.859375 \nQ 16.703125 27.09375 16.703125 20.515625 \nQ 16.703125 13.921875 20.71875 10.15625 \nQ 24.75 6.390625 31.78125 6.390625 \nQ 38.8125 6.390625 42.859375 10.171875 \nQ 46.921875 13.96875 46.921875 20.515625 \nQ 46.921875 27.09375 42.890625 30.859375 \nQ 38.875 34.625 31.78125 34.625 \nz\nM 21.921875 38.8125 \nQ 15.578125 40.375 12.03125 44.71875 \nQ 8.5 49.078125 8.5 55.328125 \nQ 8.5 64.0625 14.71875 69.140625 \nQ 20.953125 74.21875 31.78125 74.21875 \nQ 42.671875 74.21875 48.875 69.140625 \nQ 55.078125 64.0625 55.078125 55.328125 \nQ 55.078125 49.078125 51.53125 44.71875 \nQ 48 40.375 41.703125 38.8125 \nQ 48.828125 37.15625 52.796875 32.3125 \nQ 56.78125 27.484375 56.78125 20.515625 \nQ 56.78125 9.90625 50.3125 4.234375 \nQ 43.84375 -1.421875 31.78125 -1.421875 \nQ 19.734375 -1.421875 13.25 4.234375 \nQ 6.78125 9.90625 6.78125 20.515625 \nQ 6.78125 27.484375 10.78125 32.3125 \nQ 14.796875 37.15625 21.921875 38.8125 \nz\nM 18.3125 54.390625 \nQ 18.3125 48.734375 21.84375 45.5625 \nQ 25.390625 42.390625 31.78125 42.390625 \nQ 38.140625 42.390625 41.71875 45.5625 \nQ 45.3125 48.734375 45.3125 54.390625 \nQ 45.3125 60.0625 41.71875 63.234375 \nQ 38.140625 66.40625 31.78125 66.40625 \nQ 25.390625 66.40625 21.84375 63.234375 \nQ 18.3125 60.0625 18.3125 54.390625 \nz\n\" id=\"DejaVuSans-56\"/>\n       </defs>\n       <use xlink:href=\"#DejaVuSans-56\"/>\n       <use x=\"63.623047\" xlink:href=\"#DejaVuSans-48\"/>\n      </g>\n     </g>\n    </g>\n    <g id=\"xtick_6\">\n     <g id=\"line2d_6\">\n      <g>\n       <use style=\"stroke:#000000;stroke-width:0.8;\" x=\"403.637357\" xlink:href=\"#m3a5d1f66e6\" y=\"242.198437\"/>\n      </g>\n     </g>\n     <g id=\"text_6\">\n      <!-- 100 -->\n      <g transform=\"translate(394.093607 256.796875)scale(0.1 -0.1)\">\n       <defs>\n        <path d=\"M 12.40625 8.296875 \nL 28.515625 8.296875 \nL 28.515625 63.921875 \nL 10.984375 60.40625 \nL 10.984375 69.390625 \nL 28.421875 72.90625 \nL 38.28125 72.90625 \nL 38.28125 8.296875 \nL 54.390625 8.296875 \nL 54.390625 0 \nL 12.40625 0 \nz\n\" id=\"DejaVuSans-49\"/>\n       </defs>\n       <use xlink:href=\"#DejaVuSans-49\"/>\n       <use x=\"63.623047\" xlink:href=\"#DejaVuSans-48\"/>\n       <use x=\"127.246094\" xlink:href=\"#DejaVuSans-48\"/>\n      </g>\n     </g>\n    </g>\n    <g id=\"text_7\">\n     <!-- Epoch -->\n     <g transform=\"translate(215.170312 270.475)scale(0.1 -0.1)\">\n      <defs>\n       <path d=\"M 9.8125 72.90625 \nL 55.90625 72.90625 \nL 55.90625 64.59375 \nL 19.671875 64.59375 \nL 19.671875 43.015625 \nL 54.390625 43.015625 \nL 54.390625 34.71875 \nL 19.671875 34.71875 \nL 19.671875 8.296875 \nL 56.78125 8.296875 \nL 56.78125 0 \nL 9.8125 0 \nz\n\" id=\"DejaVuSans-69\"/>\n       <path d=\"M 18.109375 8.203125 \nL 18.109375 -20.796875 \nL 9.078125 -20.796875 \nL 9.078125 54.6875 \nL 18.109375 54.6875 \nL 18.109375 46.390625 \nQ 20.953125 51.265625 25.265625 53.625 \nQ 29.59375 56 35.59375 56 \nQ 45.5625 56 51.78125 48.09375 \nQ 58.015625 40.1875 58.015625 27.296875 \nQ 58.015625 14.40625 51.78125 6.484375 \nQ 45.5625 -1.421875 35.59375 -1.421875 \nQ 29.59375 -1.421875 25.265625 0.953125 \nQ 20.953125 3.328125 18.109375 8.203125 \nz\nM 48.6875 27.296875 \nQ 48.6875 37.203125 44.609375 42.84375 \nQ 40.53125 48.484375 33.40625 48.484375 \nQ 26.265625 48.484375 22.1875 42.84375 \nQ 18.109375 37.203125 18.109375 27.296875 \nQ 18.109375 17.390625 22.1875 11.75 \nQ 26.265625 6.109375 33.40625 6.109375 \nQ 40.53125 6.109375 44.609375 11.75 \nQ 48.6875 17.390625 48.6875 27.296875 \nz\n\" id=\"DejaVuSans-112\"/>\n       <path d=\"M 30.609375 48.390625 \nQ 23.390625 48.390625 19.1875 42.75 \nQ 14.984375 37.109375 14.984375 27.296875 \nQ 14.984375 17.484375 19.15625 11.84375 \nQ 23.34375 6.203125 30.609375 6.203125 \nQ 37.796875 6.203125 41.984375 11.859375 \nQ 46.1875 17.53125 46.1875 27.296875 \nQ 46.1875 37.015625 41.984375 42.703125 \nQ 37.796875 48.390625 30.609375 48.390625 \nz\nM 30.609375 56 \nQ 42.328125 56 49.015625 48.375 \nQ 55.71875 40.765625 55.71875 27.296875 \nQ 55.71875 13.875 49.015625 6.21875 \nQ 42.328125 -1.421875 30.609375 -1.421875 \nQ 18.84375 -1.421875 12.171875 6.21875 \nQ 5.515625 13.875 5.515625 27.296875 \nQ 5.515625 40.765625 12.171875 48.375 \nQ 18.84375 56 30.609375 56 \nz\n\" id=\"DejaVuSans-111\"/>\n       <path d=\"M 48.78125 52.59375 \nL 48.78125 44.1875 \nQ 44.96875 46.296875 41.140625 47.34375 \nQ 37.3125 48.390625 33.40625 48.390625 \nQ 24.65625 48.390625 19.8125 42.84375 \nQ 14.984375 37.3125 14.984375 27.296875 \nQ 14.984375 17.28125 19.8125 11.734375 \nQ 24.65625 6.203125 33.40625 6.203125 \nQ 37.3125 6.203125 41.140625 7.25 \nQ 44.96875 8.296875 48.78125 10.40625 \nL 48.78125 2.09375 \nQ 45.015625 0.34375 40.984375 -0.53125 \nQ 36.96875 -1.421875 32.421875 -1.421875 \nQ 20.0625 -1.421875 12.78125 6.34375 \nQ 5.515625 14.109375 5.515625 27.296875 \nQ 5.515625 40.671875 12.859375 48.328125 \nQ 20.21875 56 33.015625 56 \nQ 37.15625 56 41.109375 55.140625 \nQ 45.0625 54.296875 48.78125 52.59375 \nz\n\" id=\"DejaVuSans-99\"/>\n       <path d=\"M 54.890625 33.015625 \nL 54.890625 0 \nL 45.90625 0 \nL 45.90625 32.71875 \nQ 45.90625 40.484375 42.875 44.328125 \nQ 39.84375 48.1875 33.796875 48.1875 \nQ 26.515625 48.1875 22.3125 43.546875 \nQ 18.109375 38.921875 18.109375 30.90625 \nL 18.109375 0 \nL 9.078125 0 \nL 9.078125 75.984375 \nL 18.109375 75.984375 \nL 18.109375 46.1875 \nQ 21.34375 51.125 25.703125 53.5625 \nQ 30.078125 56 35.796875 56 \nQ 45.21875 56 50.046875 50.171875 \nQ 54.890625 44.34375 54.890625 33.015625 \nz\n\" id=\"DejaVuSans-104\"/>\n      </defs>\n      <use xlink:href=\"#DejaVuSans-69\"/>\n      <use x=\"63.183594\" xlink:href=\"#DejaVuSans-112\"/>\n      <use x=\"126.660156\" xlink:href=\"#DejaVuSans-111\"/>\n      <use x=\"187.841797\" xlink:href=\"#DejaVuSans-99\"/>\n      <use x=\"242.822266\" xlink:href=\"#DejaVuSans-104\"/>\n     </g>\n    </g>\n   </g>\n   <g id=\"matplotlib.axis_2\">\n    <g id=\"ytick_1\">\n     <g id=\"line2d_7\">\n      <defs>\n       <path d=\"M 0 0 \nL -3.5 0 \n\" id=\"m428d3172d2\" style=\"stroke:#000000;stroke-width:0.8;\"/>\n      </defs>\n      <g>\n       <use style=\"stroke:#000000;stroke-width:0.8;\" x=\"43.78125\" xlink:href=\"#m428d3172d2\" y=\"220.08583\"/>\n      </g>\n     </g>\n     <g id=\"text_8\">\n      <!-- 0.2 -->\n      <g transform=\"translate(20.878125 223.885048)scale(0.1 -0.1)\">\n       <defs>\n        <path d=\"M 10.6875 12.40625 \nL 21 12.40625 \nL 21 0 \nL 10.6875 0 \nz\n\" id=\"DejaVuSans-46\"/>\n       </defs>\n       <use xlink:href=\"#DejaVuSans-48\"/>\n       <use x=\"63.623047\" xlink:href=\"#DejaVuSans-46\"/>\n       <use x=\"95.410156\" xlink:href=\"#DejaVuSans-50\"/>\n      </g>\n     </g>\n    </g>\n    <g id=\"ytick_2\">\n     <g id=\"line2d_8\">\n      <g>\n       <use style=\"stroke:#000000;stroke-width:0.8;\" x=\"43.78125\" xlink:href=\"#m428d3172d2\" y=\"189.280057\"/>\n      </g>\n     </g>\n     <g id=\"text_9\">\n      <!-- 0.4 -->\n      <g transform=\"translate(20.878125 193.079276)scale(0.1 -0.1)\">\n       <use xlink:href=\"#DejaVuSans-48\"/>\n       <use x=\"63.623047\" xlink:href=\"#DejaVuSans-46\"/>\n       <use x=\"95.410156\" xlink:href=\"#DejaVuSans-52\"/>\n      </g>\n     </g>\n    </g>\n    <g id=\"ytick_3\">\n     <g id=\"line2d_9\">\n      <g>\n       <use style=\"stroke:#000000;stroke-width:0.8;\" x=\"43.78125\" xlink:href=\"#m428d3172d2\" y=\"158.474285\"/>\n      </g>\n     </g>\n     <g id=\"text_10\">\n      <!-- 0.6 -->\n      <g transform=\"translate(20.878125 162.273503)scale(0.1 -0.1)\">\n       <use xlink:href=\"#DejaVuSans-48\"/>\n       <use x=\"63.623047\" xlink:href=\"#DejaVuSans-46\"/>\n       <use x=\"95.410156\" xlink:href=\"#DejaVuSans-54\"/>\n      </g>\n     </g>\n    </g>\n    <g id=\"ytick_4\">\n     <g id=\"line2d_10\">\n      <g>\n       <use style=\"stroke:#000000;stroke-width:0.8;\" x=\"43.78125\" xlink:href=\"#m428d3172d2\" y=\"127.668512\"/>\n      </g>\n     </g>\n     <g id=\"text_11\">\n      <!-- 0.8 -->\n      <g transform=\"translate(20.878125 131.467731)scale(0.1 -0.1)\">\n       <use xlink:href=\"#DejaVuSans-48\"/>\n       <use x=\"63.623047\" xlink:href=\"#DejaVuSans-46\"/>\n       <use x=\"95.410156\" xlink:href=\"#DejaVuSans-56\"/>\n      </g>\n     </g>\n    </g>\n    <g id=\"ytick_5\">\n     <g id=\"line2d_11\">\n      <g>\n       <use style=\"stroke:#000000;stroke-width:0.8;\" x=\"43.78125\" xlink:href=\"#m428d3172d2\" y=\"96.86274\"/>\n      </g>\n     </g>\n     <g id=\"text_12\">\n      <!-- 1.0 -->\n      <g transform=\"translate(20.878125 100.661958)scale(0.1 -0.1)\">\n       <use xlink:href=\"#DejaVuSans-49\"/>\n       <use x=\"63.623047\" xlink:href=\"#DejaVuSans-46\"/>\n       <use x=\"95.410156\" xlink:href=\"#DejaVuSans-48\"/>\n      </g>\n     </g>\n    </g>\n    <g id=\"ytick_6\">\n     <g id=\"line2d_12\">\n      <g>\n       <use style=\"stroke:#000000;stroke-width:0.8;\" x=\"43.78125\" xlink:href=\"#m428d3172d2\" y=\"66.056967\"/>\n      </g>\n     </g>\n     <g id=\"text_13\">\n      <!-- 1.2 -->\n      <g transform=\"translate(20.878125 69.856186)scale(0.1 -0.1)\">\n       <use xlink:href=\"#DejaVuSans-49\"/>\n       <use x=\"63.623047\" xlink:href=\"#DejaVuSans-46\"/>\n       <use x=\"95.410156\" xlink:href=\"#DejaVuSans-50\"/>\n      </g>\n     </g>\n    </g>\n    <g id=\"ytick_7\">\n     <g id=\"line2d_13\">\n      <g>\n       <use style=\"stroke:#000000;stroke-width:0.8;\" x=\"43.78125\" xlink:href=\"#m428d3172d2\" y=\"35.251195\"/>\n      </g>\n     </g>\n     <g id=\"text_14\">\n      <!-- 1.4 -->\n      <g transform=\"translate(20.878125 39.050413)scale(0.1 -0.1)\">\n       <use xlink:href=\"#DejaVuSans-49\"/>\n       <use x=\"63.623047\" xlink:href=\"#DejaVuSans-46\"/>\n       <use x=\"95.410156\" xlink:href=\"#DejaVuSans-52\"/>\n      </g>\n     </g>\n    </g>\n    <g id=\"text_15\">\n     <!-- loss -->\n     <g transform=\"translate(14.798438 139.65625)rotate(-90)scale(0.1 -0.1)\">\n      <defs>\n       <path d=\"M 9.421875 75.984375 \nL 18.40625 75.984375 \nL 18.40625 0 \nL 9.421875 0 \nz\n\" id=\"DejaVuSans-108\"/>\n       <path d=\"M 44.28125 53.078125 \nL 44.28125 44.578125 \nQ 40.484375 46.53125 36.375 47.5 \nQ 32.28125 48.484375 27.875 48.484375 \nQ 21.1875 48.484375 17.84375 46.4375 \nQ 14.5 44.390625 14.5 40.28125 \nQ 14.5 37.15625 16.890625 35.375 \nQ 19.28125 33.59375 26.515625 31.984375 \nL 29.59375 31.296875 \nQ 39.15625 29.25 43.1875 25.515625 \nQ 47.21875 21.78125 47.21875 15.09375 \nQ 47.21875 7.46875 41.1875 3.015625 \nQ 35.15625 -1.421875 24.609375 -1.421875 \nQ 20.21875 -1.421875 15.453125 -0.5625 \nQ 10.6875 0.296875 5.421875 2 \nL 5.421875 11.28125 \nQ 10.40625 8.6875 15.234375 7.390625 \nQ 20.0625 6.109375 24.8125 6.109375 \nQ 31.15625 6.109375 34.5625 8.28125 \nQ 37.984375 10.453125 37.984375 14.40625 \nQ 37.984375 18.0625 35.515625 20.015625 \nQ 33.0625 21.96875 24.703125 23.78125 \nL 21.578125 24.515625 \nQ 13.234375 26.265625 9.515625 29.90625 \nQ 5.8125 33.546875 5.8125 39.890625 \nQ 5.8125 47.609375 11.28125 51.796875 \nQ 16.75 56 26.8125 56 \nQ 31.78125 56 36.171875 55.265625 \nQ 40.578125 54.546875 44.28125 53.078125 \nz\n\" id=\"DejaVuSans-115\"/>\n      </defs>\n      <use xlink:href=\"#DejaVuSans-108\"/>\n      <use x=\"27.783203\" xlink:href=\"#DejaVuSans-111\"/>\n      <use x=\"88.964844\" xlink:href=\"#DejaVuSans-115\"/>\n      <use x=\"141.064453\" xlink:href=\"#DejaVuSans-115\"/>\n     </g>\n    </g>\n    <g id=\"text_16\">\n     <!-- 1e6 -->\n     <g transform=\"translate(43.78125 14.798437)scale(0.1 -0.1)\">\n      <defs>\n       <path d=\"M 56.203125 29.59375 \nL 56.203125 25.203125 \nL 14.890625 25.203125 \nQ 15.484375 15.921875 20.484375 11.0625 \nQ 25.484375 6.203125 34.421875 6.203125 \nQ 39.59375 6.203125 44.453125 7.46875 \nQ 49.3125 8.734375 54.109375 11.28125 \nL 54.109375 2.78125 \nQ 49.265625 0.734375 44.1875 -0.34375 \nQ 39.109375 -1.421875 33.890625 -1.421875 \nQ 20.796875 -1.421875 13.15625 6.1875 \nQ 5.515625 13.8125 5.515625 26.8125 \nQ 5.515625 40.234375 12.765625 48.109375 \nQ 20.015625 56 32.328125 56 \nQ 43.359375 56 49.78125 48.890625 \nQ 56.203125 41.796875 56.203125 29.59375 \nz\nM 47.21875 32.234375 \nQ 47.125 39.59375 43.09375 43.984375 \nQ 39.0625 48.390625 32.421875 48.390625 \nQ 24.90625 48.390625 20.390625 44.140625 \nQ 15.875 39.890625 15.1875 32.171875 \nz\n\" id=\"DejaVuSans-101\"/>\n      </defs>\n      <use xlink:href=\"#DejaVuSans-49\"/>\n      <use x=\"63.623047\" xlink:href=\"#DejaVuSans-101\"/>\n      <use x=\"125.146484\" xlink:href=\"#DejaVuSans-54\"/>\n     </g>\n    </g>\n   </g>\n   <g id=\"line2d_14\">\n    <path clip-path=\"url(#p8d86ca714d)\" d=\"M 60.753977 27.998437 \nL 64.182811 86.514176 \nL 67.611645 125.76794 \nL 71.040479 151.490674 \nL 74.469312 167.645365 \nL 77.898146 177.480628 \nL 81.32698 183.270891 \nL 84.755814 186.876047 \nL 88.184648 189.257949 \nL 91.613481 191.164427 \nL 95.042315 192.887803 \nL 98.471149 194.462267 \nL 101.899983 195.768292 \nL 105.328817 196.929747 \nL 108.75765 197.978967 \nL 112.186484 199.103734 \nL 115.615318 200.427559 \nL 119.044152 201.740655 \nL 122.472986 203.095378 \nL 125.901819 204.45267 \nL 129.330653 205.643949 \nL 132.759487 206.759214 \nL 136.188321 207.721504 \nL 139.617154 208.698837 \nL 143.045988 209.632613 \nL 146.474822 210.519436 \nL 149.903656 211.337861 \nL 153.33249 212.100186 \nL 156.761323 212.840235 \nL 160.190157 213.562055 \nL 163.618991 214.273144 \nL 167.047825 214.998868 \nL 170.476659 215.712815 \nL 173.905492 216.387565 \nL 177.334326 217.052924 \nL 180.76316 217.682539 \nL 184.191994 218.304962 \nL 187.620828 218.873355 \nL 191.049661 219.418312 \nL 194.478495 219.932015 \nL 197.907329 220.420209 \nL 201.336163 220.888645 \nL 204.764997 221.336477 \nL 208.19383 221.762833 \nL 211.622664 222.166016 \nL 215.051498 222.530691 \nL 218.480332 222.883514 \nL 221.909166 223.206866 \nL 225.337999 223.521966 \nL 228.766833 223.831099 \nL 232.195667 224.119506 \nL 235.624501 224.400142 \nL 239.053334 224.671165 \nL 242.482168 224.941014 \nL 245.911002 225.197422 \nL 249.339836 225.48729 \nL 252.76867 225.757329 \nL 256.197503 226.036954 \nL 259.626337 226.316179 \nL 263.055171 226.604622 \nL 266.484005 226.878117 \nL 269.912839 227.137598 \nL 273.341672 227.372548 \nL 276.770506 227.589748 \nL 280.19934 227.810866 \nL 283.628174 228.016814 \nL 287.057008 228.197716 \nL 290.485841 228.37671 \nL 293.914675 228.541328 \nL 297.343509 228.709807 \nL 300.772343 228.878762 \nL 304.201177 229.032038 \nL 307.63001 229.191515 \nL 311.058844 229.338045 \nL 314.487678 229.482577 \nL 317.916512 229.619884 \nL 321.345346 229.756178 \nL 324.774179 229.891471 \nL 328.203013 230.036313 \nL 331.631847 230.174402 \nL 335.060681 230.301681 \nL 338.489514 230.423448 \nL 341.918348 230.550105 \nL 345.347182 230.659685 \nL 348.776016 230.766134 \nL 352.20485 230.868301 \nL 355.633683 230.97117 \nL 359.062517 231.069988 \nL 362.491351 231.161037 \nL 365.920185 231.256633 \nL 369.349019 231.340261 \nL 372.777852 231.420367 \nL 376.206686 231.505377 \nL 379.63552 231.578359 \nL 383.064354 231.65407 \nL 386.493188 231.719121 \nL 389.922021 231.792993 \nL 393.350855 231.861999 \nL 396.779689 231.9351 \nL 400.208523 231.998437 \n\" style=\"fill:none;stroke:#1f77b4;stroke-linecap:square;stroke-width:1.5;\"/>\n   </g>\n   <g id=\"line2d_15\">\n    <path clip-path=\"url(#p8d86ca714d)\" d=\"M 60.753977 80.682932 \nL 64.182811 127.859325 \nL 67.611645 157.587377 \nL 71.040479 175.256581 \nL 74.469312 184.530182 \nL 77.898146 189.753455 \nL 81.32698 192.714978 \nL 84.755814 194.43702 \nL 88.184648 195.697107 \nL 91.613481 196.861829 \nL 95.042315 198.263348 \nL 98.471149 199.802226 \nL 101.899983 200.914699 \nL 105.328817 202.145823 \nL 108.75765 203.863192 \nL 112.186484 205.789183 \nL 115.615318 207.146038 \nL 119.044152 208.071954 \nL 122.472986 208.882723 \nL 125.901819 209.549105 \nL 129.330653 209.963009 \nL 132.759487 210.42266 \nL 136.188321 210.837268 \nL 139.617154 211.510578 \nL 143.045988 212.00464 \nL 146.474822 212.517838 \nL 149.903656 213.225752 \nL 153.33249 213.76699 \nL 156.761323 214.189208 \nL 160.190157 214.630984 \nL 163.618991 215.190357 \nL 167.047825 215.7977 \nL 170.476659 216.255589 \nL 173.905492 216.586816 \nL 177.334326 216.816035 \nL 180.76316 217.089304 \nL 184.191994 217.244093 \nL 187.620828 217.520623 \nL 191.049661 217.723561 \nL 194.478495 217.888319 \nL 197.907329 218.257245 \nL 201.336163 218.560491 \nL 204.764997 218.756399 \nL 208.19383 218.943419 \nL 211.622664 219.172008 \nL 215.051498 219.40216 \nL 218.480332 219.637307 \nL 221.909166 219.783454 \nL 225.337999 220.00088 \nL 228.766833 220.240258 \nL 232.195667 220.478322 \nL 235.624501 220.712758 \nL 239.053334 220.919191 \nL 242.482168 221.139596 \nL 245.911002 221.329533 \nL 249.339836 221.553501 \nL 252.76867 221.732904 \nL 256.197503 221.943119 \nL 259.626337 222.19629 \nL 263.055171 222.433177 \nL 266.484005 222.786093 \nL 269.912839 223.124234 \nL 273.341672 223.422615 \nL 276.770506 223.73261 \nL 280.19934 224.034848 \nL 283.628174 224.202001 \nL 287.057008 224.379899 \nL 290.485841 224.60527 \nL 293.914675 224.761205 \nL 297.343509 224.910647 \nL 300.772343 225.009495 \nL 304.201177 225.110646 \nL 307.63001 225.272003 \nL 311.058844 225.390639 \nL 314.487678 225.483429 \nL 317.916512 225.596833 \nL 321.345346 225.729433 \nL 324.774179 225.82985 \nL 328.203013 225.954411 \nL 331.631847 226.053863 \nL 335.060681 226.137251 \nL 338.489514 226.258664 \nL 341.918348 226.432264 \nL 345.347182 226.524431 \nL 348.776016 226.616247 \nL 352.20485 226.788463 \nL 355.633683 226.926555 \nL 359.062517 227.092882 \nL 362.491351 227.190221 \nL 365.920185 227.36681 \nL 369.349019 227.502384 \nL 372.777852 227.661999 \nL 376.206686 227.83229 \nL 379.63552 227.974779 \nL 383.064354 228.090933 \nL 386.493188 228.175977 \nL 389.922021 228.283159 \nL 393.350855 228.400616 \nL 396.779689 228.500884 \nL 400.208523 228.566895 \n\" style=\"fill:none;stroke:#ff7f0e;stroke-linecap:square;stroke-width:1.5;\"/>\n   </g>\n   <g id=\"patch_3\">\n    <path d=\"M 43.78125 242.198437 \nL 43.78125 17.798437 \n\" style=\"fill:none;stroke:#000000;stroke-linecap:square;stroke-linejoin:miter;stroke-width:0.8;\"/>\n   </g>\n   <g id=\"patch_4\">\n    <path d=\"M 417.18125 242.198437 \nL 417.18125 17.798437 \n\" style=\"fill:none;stroke:#000000;stroke-linecap:square;stroke-linejoin:miter;stroke-width:0.8;\"/>\n   </g>\n   <g id=\"patch_5\">\n    <path d=\"M 43.78125 242.198437 \nL 417.18125 242.198437 \n\" style=\"fill:none;stroke:#000000;stroke-linecap:square;stroke-linejoin:miter;stroke-width:0.8;\"/>\n   </g>\n   <g id=\"patch_6\">\n    <path d=\"M 43.78125 17.798437 \nL 417.18125 17.798437 \n\" style=\"fill:none;stroke:#000000;stroke-linecap:square;stroke-linejoin:miter;stroke-width:0.8;\"/>\n   </g>\n   <g id=\"legend_1\">\n    <g id=\"patch_7\">\n     <path d=\"M 328.8 55.154687 \nL 410.18125 55.154687 \nQ 412.18125 55.154687 412.18125 53.154687 \nL 412.18125 24.798437 \nQ 412.18125 22.798437 410.18125 22.798437 \nL 328.8 22.798437 \nQ 326.8 22.798437 326.8 24.798437 \nL 326.8 53.154687 \nQ 326.8 55.154687 328.8 55.154687 \nz\n\" style=\"fill:#ffffff;opacity:0.8;stroke:#cccccc;stroke-linejoin:miter;\"/>\n    </g>\n    <g id=\"line2d_16\">\n     <path d=\"M 330.8 30.896875 \nL 350.8 30.896875 \n\" style=\"fill:none;stroke:#1f77b4;stroke-linecap:square;stroke-width:1.5;\"/>\n    </g>\n    <g id=\"line2d_17\"/>\n    <g id=\"text_17\">\n     <!-- Train -->\n     <g transform=\"translate(358.8 34.396875)scale(0.1 -0.1)\">\n      <defs>\n       <path d=\"M -0.296875 72.90625 \nL 61.375 72.90625 \nL 61.375 64.59375 \nL 35.5 64.59375 \nL 35.5 0 \nL 25.59375 0 \nL 25.59375 64.59375 \nL -0.296875 64.59375 \nz\n\" id=\"DejaVuSans-84\"/>\n       <path d=\"M 41.109375 46.296875 \nQ 39.59375 47.171875 37.8125 47.578125 \nQ 36.03125 48 33.890625 48 \nQ 26.265625 48 22.1875 43.046875 \nQ 18.109375 38.09375 18.109375 28.8125 \nL 18.109375 0 \nL 9.078125 0 \nL 9.078125 54.6875 \nL 18.109375 54.6875 \nL 18.109375 46.1875 \nQ 20.953125 51.171875 25.484375 53.578125 \nQ 30.03125 56 36.53125 56 \nQ 37.453125 56 38.578125 55.875 \nQ 39.703125 55.765625 41.0625 55.515625 \nz\n\" id=\"DejaVuSans-114\"/>\n       <path d=\"M 34.28125 27.484375 \nQ 23.390625 27.484375 19.1875 25 \nQ 14.984375 22.515625 14.984375 16.5 \nQ 14.984375 11.71875 18.140625 8.90625 \nQ 21.296875 6.109375 26.703125 6.109375 \nQ 34.1875 6.109375 38.703125 11.40625 \nQ 43.21875 16.703125 43.21875 25.484375 \nL 43.21875 27.484375 \nz\nM 52.203125 31.203125 \nL 52.203125 0 \nL 43.21875 0 \nL 43.21875 8.296875 \nQ 40.140625 3.328125 35.546875 0.953125 \nQ 30.953125 -1.421875 24.3125 -1.421875 \nQ 15.921875 -1.421875 10.953125 3.296875 \nQ 6 8.015625 6 15.921875 \nQ 6 25.140625 12.171875 29.828125 \nQ 18.359375 34.515625 30.609375 34.515625 \nL 43.21875 34.515625 \nL 43.21875 35.40625 \nQ 43.21875 41.609375 39.140625 45 \nQ 35.0625 48.390625 27.6875 48.390625 \nQ 23 48.390625 18.546875 47.265625 \nQ 14.109375 46.140625 10.015625 43.890625 \nL 10.015625 52.203125 \nQ 14.9375 54.109375 19.578125 55.046875 \nQ 24.21875 56 28.609375 56 \nQ 40.484375 56 46.34375 49.84375 \nQ 52.203125 43.703125 52.203125 31.203125 \nz\n\" id=\"DejaVuSans-97\"/>\n       <path d=\"M 9.421875 54.6875 \nL 18.40625 54.6875 \nL 18.40625 0 \nL 9.421875 0 \nz\nM 9.421875 75.984375 \nL 18.40625 75.984375 \nL 18.40625 64.59375 \nL 9.421875 64.59375 \nz\n\" id=\"DejaVuSans-105\"/>\n       <path d=\"M 54.890625 33.015625 \nL 54.890625 0 \nL 45.90625 0 \nL 45.90625 32.71875 \nQ 45.90625 40.484375 42.875 44.328125 \nQ 39.84375 48.1875 33.796875 48.1875 \nQ 26.515625 48.1875 22.3125 43.546875 \nQ 18.109375 38.921875 18.109375 30.90625 \nL 18.109375 0 \nL 9.078125 0 \nL 9.078125 54.6875 \nL 18.109375 54.6875 \nL 18.109375 46.1875 \nQ 21.34375 51.125 25.703125 53.5625 \nQ 30.078125 56 35.796875 56 \nQ 45.21875 56 50.046875 50.171875 \nQ 54.890625 44.34375 54.890625 33.015625 \nz\n\" id=\"DejaVuSans-110\"/>\n      </defs>\n      <use xlink:href=\"#DejaVuSans-84\"/>\n      <use x=\"46.333984\" xlink:href=\"#DejaVuSans-114\"/>\n      <use x=\"87.447266\" xlink:href=\"#DejaVuSans-97\"/>\n      <use x=\"148.726562\" xlink:href=\"#DejaVuSans-105\"/>\n      <use x=\"176.509766\" xlink:href=\"#DejaVuSans-110\"/>\n     </g>\n    </g>\n    <g id=\"line2d_18\">\n     <path d=\"M 330.8 45.575 \nL 350.8 45.575 \n\" style=\"fill:none;stroke:#ff7f0e;stroke-linecap:square;stroke-width:1.5;\"/>\n    </g>\n    <g id=\"line2d_19\"/>\n    <g id=\"text_18\">\n     <!-- Validation -->\n     <g transform=\"translate(358.8 49.075)scale(0.1 -0.1)\">\n      <defs>\n       <path d=\"M 28.609375 0 \nL 0.78125 72.90625 \nL 11.078125 72.90625 \nL 34.1875 11.53125 \nL 57.328125 72.90625 \nL 67.578125 72.90625 \nL 39.796875 0 \nz\n\" id=\"DejaVuSans-86\"/>\n       <path d=\"M 45.40625 46.390625 \nL 45.40625 75.984375 \nL 54.390625 75.984375 \nL 54.390625 0 \nL 45.40625 0 \nL 45.40625 8.203125 \nQ 42.578125 3.328125 38.25 0.953125 \nQ 33.9375 -1.421875 27.875 -1.421875 \nQ 17.96875 -1.421875 11.734375 6.484375 \nQ 5.515625 14.40625 5.515625 27.296875 \nQ 5.515625 40.1875 11.734375 48.09375 \nQ 17.96875 56 27.875 56 \nQ 33.9375 56 38.25 53.625 \nQ 42.578125 51.265625 45.40625 46.390625 \nz\nM 14.796875 27.296875 \nQ 14.796875 17.390625 18.875 11.75 \nQ 22.953125 6.109375 30.078125 6.109375 \nQ 37.203125 6.109375 41.296875 11.75 \nQ 45.40625 17.390625 45.40625 27.296875 \nQ 45.40625 37.203125 41.296875 42.84375 \nQ 37.203125 48.484375 30.078125 48.484375 \nQ 22.953125 48.484375 18.875 42.84375 \nQ 14.796875 37.203125 14.796875 27.296875 \nz\n\" id=\"DejaVuSans-100\"/>\n       <path d=\"M 18.3125 70.21875 \nL 18.3125 54.6875 \nL 36.8125 54.6875 \nL 36.8125 47.703125 \nL 18.3125 47.703125 \nL 18.3125 18.015625 \nQ 18.3125 11.328125 20.140625 9.421875 \nQ 21.96875 7.515625 27.59375 7.515625 \nL 36.8125 7.515625 \nL 36.8125 0 \nL 27.59375 0 \nQ 17.1875 0 13.234375 3.875 \nQ 9.28125 7.765625 9.28125 18.015625 \nL 9.28125 47.703125 \nL 2.6875 47.703125 \nL 2.6875 54.6875 \nL 9.28125 54.6875 \nL 9.28125 70.21875 \nz\n\" id=\"DejaVuSans-116\"/>\n      </defs>\n      <use xlink:href=\"#DejaVuSans-86\"/>\n      <use x=\"60.658203\" xlink:href=\"#DejaVuSans-97\"/>\n      <use x=\"121.9375\" xlink:href=\"#DejaVuSans-108\"/>\n      <use x=\"149.720703\" xlink:href=\"#DejaVuSans-105\"/>\n      <use x=\"177.503906\" xlink:href=\"#DejaVuSans-100\"/>\n      <use x=\"240.980469\" xlink:href=\"#DejaVuSans-97\"/>\n      <use x=\"302.259766\" xlink:href=\"#DejaVuSans-116\"/>\n      <use x=\"341.46875\" xlink:href=\"#DejaVuSans-105\"/>\n      <use x=\"369.251953\" xlink:href=\"#DejaVuSans-111\"/>\n      <use x=\"430.433594\" xlink:href=\"#DejaVuSans-110\"/>\n     </g>\n    </g>\n   </g>\n  </g>\n </g>\n <defs>\n  <clipPath id=\"p8d86ca714d\">\n   <rect height=\"224.4\" width=\"373.4\" x=\"43.78125\" y=\"17.798437\"/>\n  </clipPath>\n </defs>\n</svg>\n",
      "image/png": "[encoded data removed]"
     },
     "metadata": {
      "needs_background": "light"
     }
    }
   ],
   "source": [
    "plot_history(hist, history_pdf.format(N = SYSTEM_SIZE, T = TIME_LENGTH, M = MODEL, L = LABEL, trial = TRIAL))\n",
    "np.savetxt(history_dat.format(N = SYSTEM_SIZE, T = TIME_LENGTH, M = MODEL, L = LABEL, trial = TRIAL), hist, fmt = \"%e\")\n",
    "\n",
    "\n"
   ]
  },
  {
   "cell_type": "code",
   "execution_count": 23,
   "metadata": {},
   "outputs": [],
   "source": [
    "\n",
    "save_dir = '/pds/pds172/hoyun1009/data/MLMP/MLMP_SI_Tracer/saves/N{N:d}T{T:d}/{M:s}_{L:d}/save_{trial:d}/'\n",
    "if not os.path.exists(save_dir.format(N = SYSTEM_SIZE, T = TIME_LENGTH, M = MODEL, L = LABEL, trial = TRIAL)):\n",
    "    os.mkdir(save_dir.format(N = SYSTEM_SIZE, T = TIME_LENGTH, M = MODEL, L = LABEL, trial = TRIAL))\n",
    "save = '/pds/pds172/hoyun1009/data/MLMP/MLMP_SI_Tracer/saves/N{N:d}T{T:d}/{M:s}_{L:d}/save_{trial:d}/save.ckpt'\n",
    "model.save_weights(save.format(N = SYSTEM_SIZE, T = TIME_LENGTH, M = MODEL, L = LABEL, trial = TRIAL))\n"
   ]
  },
  {
   "cell_type": "code",
   "execution_count": null,
   "metadata": {},
   "outputs": [],
   "source": []
  },
  {
   "cell_type": "code",
   "execution_count": null,
   "metadata": {},
   "outputs": [],
   "source": []
  },
  {
   "cell_type": "code",
   "execution_count": null,
   "metadata": {},
   "outputs": [],
   "source": []
  },
  {
   "cell_type": "markdown",
   "metadata": {},
   "source": [
    "# Testing model"
   ]
  },
  {
   "cell_type": "code",
   "execution_count": null,
   "metadata": {},
   "outputs": [],
   "source": []
  },
  {
   "cell_type": "code",
   "execution_count": 24,
   "metadata": {},
   "outputs": [],
   "source": [
    "\n",
    "output = np.zeros((TEST_FIN - TEST_INI, TIME_LENGTH, SYSTEM_SIZE, NUM_STATE), dtype=np.float32)\n",
    "\n",
    "input_time_test = tf.cast(timeline[TEST_INI : TEST_FIN, 0 : 1].reshape(TEST_FIN - TEST_INI, SYSTEM_SIZE, NUM_STATE), dtype=tf.float32)\n",
    "adjacency_test = tf.data.Dataset.from_tensor_slices(tf.cast(adjacency[TEST_INI : TEST_FIN].reshape(TEST_FIN - TEST_INI, SYSTEM_SIZE, SYSTEM_SIZE), dtype=tf.float32))\n",
    "output[:,0] = input_time_test\n",
    "\n",
    "\n",
    "for i in range(1, TIME_LENGTH - 1):\n",
    "    image_test = tf.data.Dataset.from_tensor_slices(input_time_test)\n",
    "    label_test = tf.data.Dataset.from_tensor_slices(tf.cast(timeline[TEST_INI : TEST_FIN, i : i + 1].reshape(TEST_FIN - TEST_INI, SYSTEM_SIZE, NUM_STATE), dtype=tf.float32))\n",
    "    dataset_test =  tf.data.Dataset.zip(((image_test, adjacency_test), label_test)).batch(TEST_FIN - TEST_INI, drop_remainder = True)\n",
    "    output[:,i] = model.predict(dataset_test)\n",
    "    input_time_test = output[:,i]\n",
    "\n"
   ]
  },
  {
   "cell_type": "code",
   "execution_count": 25,
   "metadata": {},
   "outputs": [],
   "source": [
    "output_dat = '/pds/pds172/hoyun1009/data/MLMP/MLMP_SI_Tracer/saves/N{N:d}T{T:d}/{M:s}_{L:d}/output_{trial:d}.dat'\n",
    "np.savetxt(output_dat.format(N = SYSTEM_SIZE, T = TIME_LENGTH, M = MODEL, L = LABEL, trial = TRIAL), output.reshape(TEST_FIN - TEST_INI, TIME_LENGTH * SYSTEM_SIZE * NUM_STATE), fmt = \"%e\")\n",
    "\n"
   ]
  },
  {
   "cell_type": "code",
   "execution_count": null,
   "metadata": {},
   "outputs": [],
   "source": []
  },
  {
   "cell_type": "code",
   "execution_count": null,
   "metadata": {},
   "outputs": [],
   "source": []
  },
  {
   "cell_type": "code",
   "execution_count": 26,
   "metadata": {},
   "outputs": [],
   "source": [
    "def plot_output(label, output, filename):\n",
    "    plt.clf()\n",
    "    plt.xlabel('Time')\n",
    "    plt.ylabel('Infectious')\n",
    "    for sample in range(0,2):\n",
    "        plt.plot(label[sample,:,1], label = str(sample), color = 'C'+str(sample), linestyle = 'solid' )\n",
    "        plt.plot(output[sample,:,1], color = 'C'+str(sample), linestyle = 'dotted')\n",
    "    plt.legend()\n",
    "    plt.tight_layout()\n",
    "    plt.savefig(filename)\n",
    "\n",
    "\n"
   ]
  },
  {
   "cell_type": "code",
   "execution_count": 27,
   "metadata": {},
   "outputs": [],
   "source": [
    "output_pdf = '/pds/pds172/hoyun1009/data/MLMP/MLMP_SI_Tracer/saves/N{N:d}T{T:d}/{M:s}_{L:d}/output_{trial:d}.pdf'"
   ]
  },
  {
   "cell_type": "code",
   "execution_count": 28,
   "metadata": {},
   "outputs": [],
   "source": [
    "label_sum = tf.reduce_sum(tf.cast(timeline[TEST_INI : TEST_FIN].reshape(TEST_FIN - TEST_INI, TIME_LENGTH, SYSTEM_SIZE, NUM_STATE), dtype=tf.float32), 2)\n",
    "output_sum = tf.reduce_sum(output, 2)"
   ]
  },
  {
   "cell_type": "code",
   "execution_count": 29,
   "metadata": {},
   "outputs": [
    {
     "output_type": "display_data",
     "data": {
      "text/plain": "<Figure size 432x288 with 1 Axes>",
      "image/svg+xml": "<?xml version=\"1.0\" encoding=\"utf-8\" standalone=\"no\"?>\n<!DOCTYPE svg PUBLIC \"-//W3C//DTD SVG 1.1//EN\"\n  \"http://www.w3.org/Graphics/SVG/1.1/DTD/svg11.dtd\">\n<!-- Created with matplotlib (https://matplotlib.org/) -->\n<svg height=\"279.733721pt\" version=\"1.1\" viewBox=\"0 0 424.428125 279.733721\" width=\"424.428125pt\" xmlns=\"http://www.w3.org/2000/svg\" xmlns:xlink=\"http://www.w3.org/1999/xlink\">\n <metadata>\n  <rdf:RDF xmlns:cc=\"http://creativecommons.org/ns#\" xmlns:dc=\"http://purl.org/dc/elements/1.1/\" xmlns:rdf=\"http://www.w3.org/1999/02/22-rdf-syntax-ns#\">\n   <cc:Work>\n    <dc:type rdf:resource=\"http://purl.org/dc/dcmitype/StillImage\"/>\n    <dc:date>2021-02-04T17:03:11.663500</dc:date>\n    <dc:format>image/svg+xml</dc:format>\n    <dc:creator>\n     <cc:Agent>\n      <dc:title>Matplotlib v3.3.1, https://matplotlib.org/</dc:title>\n     </cc:Agent>\n    </dc:creator>\n   </cc:Work>\n  </rdf:RDF>\n </metadata>\n <defs>\n  <style type=\"text/css\">*{stroke-linecap:butt;stroke-linejoin:round;}</style>\n </defs>\n <g id=\"figure_1\">\n  <g id=\"patch_1\">\n   <path d=\"M 0 279.733721 \nL 424.428125 279.733721 \nL 424.428125 0 \nL 0 0 \nz\n\" style=\"fill:none;\"/>\n  </g>\n  <g id=\"axes_1\">\n   <g id=\"patch_2\">\n    <path d=\"M 53.328125 242.177471 \nL 417.228125 242.177471 \nL 417.228125 7.911801 \nL 53.328125 7.911801 \nz\n\" style=\"fill:#ffffff;\"/>\n   </g>\n   <g id=\"matplotlib.axis_1\">\n    <g id=\"xtick_1\">\n     <g id=\"line2d_1\">\n      <defs>\n       <path d=\"M 0 0 \nL 0 3.5 \n\" id=\"md2bd3efe55\" style=\"stroke:#000000;stroke-width:0.8;\"/>\n      </defs>\n      <g>\n       <use style=\"stroke:#000000;stroke-width:0.8;\" x=\"69.869034\" xlink:href=\"#md2bd3efe55\" y=\"242.177471\"/>\n      </g>\n     </g>\n     <g id=\"text_1\">\n      <!-- 0 -->\n      <g transform=\"translate(66.687784 256.775909)scale(0.1 -0.1)\">\n       <defs>\n        <path d=\"M 31.78125 66.40625 \nQ 24.171875 66.40625 20.328125 58.90625 \nQ 16.5 51.421875 16.5 36.375 \nQ 16.5 21.390625 20.328125 13.890625 \nQ 24.171875 6.390625 31.78125 6.390625 \nQ 39.453125 6.390625 43.28125 13.890625 \nQ 47.125 21.390625 47.125 36.375 \nQ 47.125 51.421875 43.28125 58.90625 \nQ 39.453125 66.40625 31.78125 66.40625 \nz\nM 31.78125 74.21875 \nQ 44.046875 74.21875 50.515625 64.515625 \nQ 56.984375 54.828125 56.984375 36.375 \nQ 56.984375 17.96875 50.515625 8.265625 \nQ 44.046875 -1.421875 31.78125 -1.421875 \nQ 19.53125 -1.421875 13.0625 8.265625 \nQ 6.59375 17.96875 6.59375 36.375 \nQ 6.59375 54.828125 13.0625 64.515625 \nQ 19.53125 74.21875 31.78125 74.21875 \nz\n\" id=\"DejaVuSans-48\"/>\n       </defs>\n       <use xlink:href=\"#DejaVuSans-48\"/>\n      </g>\n     </g>\n    </g>\n    <g id=\"xtick_2\">\n     <g id=\"line2d_2\">\n      <g>\n       <use style=\"stroke:#000000;stroke-width:0.8;\" x=\"136.03267\" xlink:href=\"#md2bd3efe55\" y=\"242.177471\"/>\n      </g>\n     </g>\n     <g id=\"text_2\">\n      <!-- 10 -->\n      <g transform=\"translate(129.67017 256.775909)scale(0.1 -0.1)\">\n       <defs>\n        <path d=\"M 12.40625 8.296875 \nL 28.515625 8.296875 \nL 28.515625 63.921875 \nL 10.984375 60.40625 \nL 10.984375 69.390625 \nL 28.421875 72.90625 \nL 38.28125 72.90625 \nL 38.28125 8.296875 \nL 54.390625 8.296875 \nL 54.390625 0 \nL 12.40625 0 \nz\n\" id=\"DejaVuSans-49\"/>\n       </defs>\n       <use xlink:href=\"#DejaVuSans-49\"/>\n       <use x=\"63.623047\" xlink:href=\"#DejaVuSans-48\"/>\n      </g>\n     </g>\n    </g>\n    <g id=\"xtick_3\">\n     <g id=\"line2d_3\">\n      <g>\n       <use style=\"stroke:#000000;stroke-width:0.8;\" x=\"202.196307\" xlink:href=\"#md2bd3efe55\" y=\"242.177471\"/>\n      </g>\n     </g>\n     <g id=\"text_3\">\n      <!-- 20 -->\n      <g transform=\"translate(195.833807 256.775909)scale(0.1 -0.1)\">\n       <defs>\n        <path d=\"M 19.1875 8.296875 \nL 53.609375 8.296875 \nL 53.609375 0 \nL 7.328125 0 \nL 7.328125 8.296875 \nQ 12.9375 14.109375 22.625 23.890625 \nQ 32.328125 33.6875 34.8125 36.53125 \nQ 39.546875 41.84375 41.421875 45.53125 \nQ 43.3125 49.21875 43.3125 52.78125 \nQ 43.3125 58.59375 39.234375 62.25 \nQ 35.15625 65.921875 28.609375 65.921875 \nQ 23.96875 65.921875 18.8125 64.3125 \nQ 13.671875 62.703125 7.8125 59.421875 \nL 7.8125 69.390625 \nQ 13.765625 71.78125 18.9375 73 \nQ 24.125 74.21875 28.421875 74.21875 \nQ 39.75 74.21875 46.484375 68.546875 \nQ 53.21875 62.890625 53.21875 53.421875 \nQ 53.21875 48.921875 51.53125 44.890625 \nQ 49.859375 40.875 45.40625 35.40625 \nQ 44.1875 33.984375 37.640625 27.21875 \nQ 31.109375 20.453125 19.1875 8.296875 \nz\n\" id=\"DejaVuSans-50\"/>\n       </defs>\n       <use xlink:href=\"#DejaVuSans-50\"/>\n       <use x=\"63.623047\" xlink:href=\"#DejaVuSans-48\"/>\n      </g>\n     </g>\n    </g>\n    <g id=\"xtick_4\">\n     <g id=\"line2d_4\">\n      <g>\n       <use style=\"stroke:#000000;stroke-width:0.8;\" x=\"268.359943\" xlink:href=\"#md2bd3efe55\" y=\"242.177471\"/>\n      </g>\n     </g>\n     <g id=\"text_4\">\n      <!-- 30 -->\n      <g transform=\"translate(261.997443 256.775909)scale(0.1 -0.1)\">\n       <defs>\n        <path d=\"M 40.578125 39.3125 \nQ 47.65625 37.796875 51.625 33 \nQ 55.609375 28.21875 55.609375 21.1875 \nQ 55.609375 10.40625 48.1875 4.484375 \nQ 40.765625 -1.421875 27.09375 -1.421875 \nQ 22.515625 -1.421875 17.65625 -0.515625 \nQ 12.796875 0.390625 7.625 2.203125 \nL 7.625 11.71875 \nQ 11.71875 9.328125 16.59375 8.109375 \nQ 21.484375 6.890625 26.8125 6.890625 \nQ 36.078125 6.890625 40.9375 10.546875 \nQ 45.796875 14.203125 45.796875 21.1875 \nQ 45.796875 27.640625 41.28125 31.265625 \nQ 36.765625 34.90625 28.71875 34.90625 \nL 20.21875 34.90625 \nL 20.21875 43.015625 \nL 29.109375 43.015625 \nQ 36.375 43.015625 40.234375 45.921875 \nQ 44.09375 48.828125 44.09375 54.296875 \nQ 44.09375 59.90625 40.109375 62.90625 \nQ 36.140625 65.921875 28.71875 65.921875 \nQ 24.65625 65.921875 20.015625 65.03125 \nQ 15.375 64.15625 9.8125 62.3125 \nL 9.8125 71.09375 \nQ 15.4375 72.65625 20.34375 73.4375 \nQ 25.25 74.21875 29.59375 74.21875 \nQ 40.828125 74.21875 47.359375 69.109375 \nQ 53.90625 64.015625 53.90625 55.328125 \nQ 53.90625 49.265625 50.4375 45.09375 \nQ 46.96875 40.921875 40.578125 39.3125 \nz\n\" id=\"DejaVuSans-51\"/>\n       </defs>\n       <use xlink:href=\"#DejaVuSans-51\"/>\n       <use x=\"63.623047\" xlink:href=\"#DejaVuSans-48\"/>\n      </g>\n     </g>\n    </g>\n    <g id=\"xtick_5\">\n     <g id=\"line2d_5\">\n      <g>\n       <use style=\"stroke:#000000;stroke-width:0.8;\" x=\"334.52358\" xlink:href=\"#md2bd3efe55\" y=\"242.177471\"/>\n      </g>\n     </g>\n     <g id=\"text_5\">\n      <!-- 40 -->\n      <g transform=\"translate(328.16108 256.775909)scale(0.1 -0.1)\">\n       <defs>\n        <path d=\"M 37.796875 64.3125 \nL 12.890625 25.390625 \nL 37.796875 25.390625 \nz\nM 35.203125 72.90625 \nL 47.609375 72.90625 \nL 47.609375 25.390625 \nL 58.015625 25.390625 \nL 58.015625 17.1875 \nL 47.609375 17.1875 \nL 47.609375 0 \nL 37.796875 0 \nL 37.796875 17.1875 \nL 4.890625 17.1875 \nL 4.890625 26.703125 \nz\n\" id=\"DejaVuSans-52\"/>\n       </defs>\n       <use xlink:href=\"#DejaVuSans-52\"/>\n       <use x=\"63.623047\" xlink:href=\"#DejaVuSans-48\"/>\n      </g>\n     </g>\n    </g>\n    <g id=\"xtick_6\">\n     <g id=\"line2d_6\">\n      <g>\n       <use style=\"stroke:#000000;stroke-width:0.8;\" x=\"400.687216\" xlink:href=\"#md2bd3efe55\" y=\"242.177471\"/>\n      </g>\n     </g>\n     <g id=\"text_6\">\n      <!-- 50 -->\n      <g transform=\"translate(394.324716 256.775909)scale(0.1 -0.1)\">\n       <defs>\n        <path d=\"M 10.796875 72.90625 \nL 49.515625 72.90625 \nL 49.515625 64.59375 \nL 19.828125 64.59375 \nL 19.828125 46.734375 \nQ 21.96875 47.46875 24.109375 47.828125 \nQ 26.265625 48.1875 28.421875 48.1875 \nQ 40.625 48.1875 47.75 41.5 \nQ 54.890625 34.8125 54.890625 23.390625 \nQ 54.890625 11.625 47.5625 5.09375 \nQ 40.234375 -1.421875 26.90625 -1.421875 \nQ 22.3125 -1.421875 17.546875 -0.640625 \nQ 12.796875 0.140625 7.71875 1.703125 \nL 7.71875 11.625 \nQ 12.109375 9.234375 16.796875 8.0625 \nQ 21.484375 6.890625 26.703125 6.890625 \nQ 35.15625 6.890625 40.078125 11.328125 \nQ 45.015625 15.765625 45.015625 23.390625 \nQ 45.015625 31 40.078125 35.4375 \nQ 35.15625 39.890625 26.703125 39.890625 \nQ 22.75 39.890625 18.8125 39.015625 \nQ 14.890625 38.140625 10.796875 36.28125 \nz\n\" id=\"DejaVuSans-53\"/>\n       </defs>\n       <use xlink:href=\"#DejaVuSans-53\"/>\n       <use x=\"63.623047\" xlink:href=\"#DejaVuSans-48\"/>\n      </g>\n     </g>\n    </g>\n    <g id=\"text_7\">\n     <!-- Time -->\n     <g transform=\"translate(223.044531 270.454034)scale(0.1 -0.1)\">\n      <defs>\n       <path d=\"M -0.296875 72.90625 \nL 61.375 72.90625 \nL 61.375 64.59375 \nL 35.5 64.59375 \nL 35.5 0 \nL 25.59375 0 \nL 25.59375 64.59375 \nL -0.296875 64.59375 \nz\n\" id=\"DejaVuSans-84\"/>\n       <path d=\"M 9.421875 54.6875 \nL 18.40625 54.6875 \nL 18.40625 0 \nL 9.421875 0 \nz\nM 9.421875 75.984375 \nL 18.40625 75.984375 \nL 18.40625 64.59375 \nL 9.421875 64.59375 \nz\n\" id=\"DejaVuSans-105\"/>\n       <path d=\"M 52 44.1875 \nQ 55.375 50.25 60.0625 53.125 \nQ 64.75 56 71.09375 56 \nQ 79.640625 56 84.28125 50.015625 \nQ 88.921875 44.046875 88.921875 33.015625 \nL 88.921875 0 \nL 79.890625 0 \nL 79.890625 32.71875 \nQ 79.890625 40.578125 77.09375 44.375 \nQ 74.3125 48.1875 68.609375 48.1875 \nQ 61.625 48.1875 57.5625 43.546875 \nQ 53.515625 38.921875 53.515625 30.90625 \nL 53.515625 0 \nL 44.484375 0 \nL 44.484375 32.71875 \nQ 44.484375 40.625 41.703125 44.40625 \nQ 38.921875 48.1875 33.109375 48.1875 \nQ 26.21875 48.1875 22.15625 43.53125 \nQ 18.109375 38.875 18.109375 30.90625 \nL 18.109375 0 \nL 9.078125 0 \nL 9.078125 54.6875 \nL 18.109375 54.6875 \nL 18.109375 46.1875 \nQ 21.1875 51.21875 25.484375 53.609375 \nQ 29.78125 56 35.6875 56 \nQ 41.65625 56 45.828125 52.96875 \nQ 50 49.953125 52 44.1875 \nz\n\" id=\"DejaVuSans-109\"/>\n       <path d=\"M 56.203125 29.59375 \nL 56.203125 25.203125 \nL 14.890625 25.203125 \nQ 15.484375 15.921875 20.484375 11.0625 \nQ 25.484375 6.203125 34.421875 6.203125 \nQ 39.59375 6.203125 44.453125 7.46875 \nQ 49.3125 8.734375 54.109375 11.28125 \nL 54.109375 2.78125 \nQ 49.265625 0.734375 44.1875 -0.34375 \nQ 39.109375 -1.421875 33.890625 -1.421875 \nQ 20.796875 -1.421875 13.15625 6.1875 \nQ 5.515625 13.8125 5.515625 26.8125 \nQ 5.515625 40.234375 12.765625 48.109375 \nQ 20.015625 56 32.328125 56 \nQ 43.359375 56 49.78125 48.890625 \nQ 56.203125 41.796875 56.203125 29.59375 \nz\nM 47.21875 32.234375 \nQ 47.125 39.59375 43.09375 43.984375 \nQ 39.0625 48.390625 32.421875 48.390625 \nQ 24.90625 48.390625 20.390625 44.140625 \nQ 15.875 39.890625 15.1875 32.171875 \nz\n\" id=\"DejaVuSans-101\"/>\n      </defs>\n      <use xlink:href=\"#DejaVuSans-84\"/>\n      <use x=\"57.958984\" xlink:href=\"#DejaVuSans-105\"/>\n      <use x=\"85.742188\" xlink:href=\"#DejaVuSans-109\"/>\n      <use x=\"183.154297\" xlink:href=\"#DejaVuSans-101\"/>\n     </g>\n    </g>\n   </g>\n   <g id=\"matplotlib.axis_2\">\n    <g id=\"ytick_1\">\n     <g id=\"line2d_7\">\n      <defs>\n       <path d=\"M 0 0 \nL -3.5 0 \n\" id=\"m9b66a2fb02\" style=\"stroke:#000000;stroke-width:0.8;\"/>\n      </defs>\n      <g>\n       <use style=\"stroke:#000000;stroke-width:0.8;\" x=\"53.328125\" xlink:href=\"#m9b66a2fb02\" y=\"231.529032\"/>\n      </g>\n     </g>\n     <g id=\"text_8\">\n      <!-- 0 -->\n      <g transform=\"translate(39.965625 235.32825)scale(0.1 -0.1)\">\n       <use xlink:href=\"#DejaVuSans-48\"/>\n      </g>\n     </g>\n    </g>\n    <g id=\"ytick_2\">\n     <g id=\"line2d_8\">\n      <g>\n       <use style=\"stroke:#000000;stroke-width:0.8;\" x=\"53.328125\" xlink:href=\"#m9b66a2fb02\" y=\"200.024773\"/>\n      </g>\n     </g>\n     <g id=\"text_9\">\n      <!-- 1000 -->\n      <g transform=\"translate(20.878125 203.823991)scale(0.1 -0.1)\">\n       <use xlink:href=\"#DejaVuSans-49\"/>\n       <use x=\"63.623047\" xlink:href=\"#DejaVuSans-48\"/>\n       <use x=\"127.246094\" xlink:href=\"#DejaVuSans-48\"/>\n       <use x=\"190.869141\" xlink:href=\"#DejaVuSans-48\"/>\n      </g>\n     </g>\n    </g>\n    <g id=\"ytick_3\">\n     <g id=\"line2d_9\">\n      <g>\n       <use style=\"stroke:#000000;stroke-width:0.8;\" x=\"53.328125\" xlink:href=\"#m9b66a2fb02\" y=\"168.520514\"/>\n      </g>\n     </g>\n     <g id=\"text_10\">\n      <!-- 2000 -->\n      <g transform=\"translate(20.878125 172.319732)scale(0.1 -0.1)\">\n       <use xlink:href=\"#DejaVuSans-50\"/>\n       <use x=\"63.623047\" xlink:href=\"#DejaVuSans-48\"/>\n       <use x=\"127.246094\" xlink:href=\"#DejaVuSans-48\"/>\n       <use x=\"190.869141\" xlink:href=\"#DejaVuSans-48\"/>\n      </g>\n     </g>\n    </g>\n    <g id=\"ytick_4\">\n     <g id=\"line2d_10\">\n      <g>\n       <use style=\"stroke:#000000;stroke-width:0.8;\" x=\"53.328125\" xlink:href=\"#m9b66a2fb02\" y=\"137.016255\"/>\n      </g>\n     </g>\n     <g id=\"text_11\">\n      <!-- 3000 -->\n      <g transform=\"translate(20.878125 140.815473)scale(0.1 -0.1)\">\n       <use xlink:href=\"#DejaVuSans-51\"/>\n       <use x=\"63.623047\" xlink:href=\"#DejaVuSans-48\"/>\n       <use x=\"127.246094\" xlink:href=\"#DejaVuSans-48\"/>\n       <use x=\"190.869141\" xlink:href=\"#DejaVuSans-48\"/>\n      </g>\n     </g>\n    </g>\n    <g id=\"ytick_5\">\n     <g id=\"line2d_11\">\n      <g>\n       <use style=\"stroke:#000000;stroke-width:0.8;\" x=\"53.328125\" xlink:href=\"#m9b66a2fb02\" y=\"105.511996\"/>\n      </g>\n     </g>\n     <g id=\"text_12\">\n      <!-- 4000 -->\n      <g transform=\"translate(20.878125 109.311214)scale(0.1 -0.1)\">\n       <use xlink:href=\"#DejaVuSans-52\"/>\n       <use x=\"63.623047\" xlink:href=\"#DejaVuSans-48\"/>\n       <use x=\"127.246094\" xlink:href=\"#DejaVuSans-48\"/>\n       <use x=\"190.869141\" xlink:href=\"#DejaVuSans-48\"/>\n      </g>\n     </g>\n    </g>\n    <g id=\"ytick_6\">\n     <g id=\"line2d_12\">\n      <g>\n       <use style=\"stroke:#000000;stroke-width:0.8;\" x=\"53.328125\" xlink:href=\"#m9b66a2fb02\" y=\"74.007737\"/>\n      </g>\n     </g>\n     <g id=\"text_13\">\n      <!-- 5000 -->\n      <g transform=\"translate(20.878125 77.806955)scale(0.1 -0.1)\">\n       <use xlink:href=\"#DejaVuSans-53\"/>\n       <use x=\"63.623047\" xlink:href=\"#DejaVuSans-48\"/>\n       <use x=\"127.246094\" xlink:href=\"#DejaVuSans-48\"/>\n       <use x=\"190.869141\" xlink:href=\"#DejaVuSans-48\"/>\n      </g>\n     </g>\n    </g>\n    <g id=\"ytick_7\">\n     <g id=\"line2d_13\">\n      <g>\n       <use style=\"stroke:#000000;stroke-width:0.8;\" x=\"53.328125\" xlink:href=\"#m9b66a2fb02\" y=\"42.503478\"/>\n      </g>\n     </g>\n     <g id=\"text_14\">\n      <!-- 6000 -->\n      <g transform=\"translate(20.878125 46.302696)scale(0.1 -0.1)\">\n       <defs>\n        <path d=\"M 33.015625 40.375 \nQ 26.375 40.375 22.484375 35.828125 \nQ 18.609375 31.296875 18.609375 23.390625 \nQ 18.609375 15.53125 22.484375 10.953125 \nQ 26.375 6.390625 33.015625 6.390625 \nQ 39.65625 6.390625 43.53125 10.953125 \nQ 47.40625 15.53125 47.40625 23.390625 \nQ 47.40625 31.296875 43.53125 35.828125 \nQ 39.65625 40.375 33.015625 40.375 \nz\nM 52.59375 71.296875 \nL 52.59375 62.3125 \nQ 48.875 64.0625 45.09375 64.984375 \nQ 41.3125 65.921875 37.59375 65.921875 \nQ 27.828125 65.921875 22.671875 59.328125 \nQ 17.53125 52.734375 16.796875 39.40625 \nQ 19.671875 43.65625 24.015625 45.921875 \nQ 28.375 48.1875 33.59375 48.1875 \nQ 44.578125 48.1875 50.953125 41.515625 \nQ 57.328125 34.859375 57.328125 23.390625 \nQ 57.328125 12.15625 50.6875 5.359375 \nQ 44.046875 -1.421875 33.015625 -1.421875 \nQ 20.359375 -1.421875 13.671875 8.265625 \nQ 6.984375 17.96875 6.984375 36.375 \nQ 6.984375 53.65625 15.1875 63.9375 \nQ 23.390625 74.21875 37.203125 74.21875 \nQ 40.921875 74.21875 44.703125 73.484375 \nQ 48.484375 72.75 52.59375 71.296875 \nz\n\" id=\"DejaVuSans-54\"/>\n       </defs>\n       <use xlink:href=\"#DejaVuSans-54\"/>\n       <use x=\"63.623047\" xlink:href=\"#DejaVuSans-48\"/>\n       <use x=\"127.246094\" xlink:href=\"#DejaVuSans-48\"/>\n       <use x=\"190.869141\" xlink:href=\"#DejaVuSans-48\"/>\n      </g>\n     </g>\n    </g>\n    <g id=\"ytick_8\">\n     <g id=\"line2d_14\">\n      <g>\n       <use style=\"stroke:#000000;stroke-width:0.8;\" x=\"53.328125\" xlink:href=\"#m9b66a2fb02\" y=\"10.999219\"/>\n      </g>\n     </g>\n     <g id=\"text_15\">\n      <!-- 7000 -->\n      <g transform=\"translate(20.878125 14.798438)scale(0.1 -0.1)\">\n       <defs>\n        <path d=\"M 8.203125 72.90625 \nL 55.078125 72.90625 \nL 55.078125 68.703125 \nL 28.609375 0 \nL 18.3125 0 \nL 43.21875 64.59375 \nL 8.203125 64.59375 \nz\n\" id=\"DejaVuSans-55\"/>\n       </defs>\n       <use xlink:href=\"#DejaVuSans-55\"/>\n       <use x=\"63.623047\" xlink:href=\"#DejaVuSans-48\"/>\n       <use x=\"127.246094\" xlink:href=\"#DejaVuSans-48\"/>\n       <use x=\"190.869141\" xlink:href=\"#DejaVuSans-48\"/>\n      </g>\n     </g>\n    </g>\n    <g id=\"text_16\">\n     <!-- Infectious -->\n     <g transform=\"translate(14.798438 149.456355)rotate(-90)scale(0.1 -0.1)\">\n      <defs>\n       <path d=\"M 9.8125 72.90625 \nL 19.671875 72.90625 \nL 19.671875 0 \nL 9.8125 0 \nz\n\" id=\"DejaVuSans-73\"/>\n       <path d=\"M 54.890625 33.015625 \nL 54.890625 0 \nL 45.90625 0 \nL 45.90625 32.71875 \nQ 45.90625 40.484375 42.875 44.328125 \nQ 39.84375 48.1875 33.796875 48.1875 \nQ 26.515625 48.1875 22.3125 43.546875 \nQ 18.109375 38.921875 18.109375 30.90625 \nL 18.109375 0 \nL 9.078125 0 \nL 9.078125 54.6875 \nL 18.109375 54.6875 \nL 18.109375 46.1875 \nQ 21.34375 51.125 25.703125 53.5625 \nQ 30.078125 56 35.796875 56 \nQ 45.21875 56 50.046875 50.171875 \nQ 54.890625 44.34375 54.890625 33.015625 \nz\n\" id=\"DejaVuSans-110\"/>\n       <path d=\"M 37.109375 75.984375 \nL 37.109375 68.5 \nL 28.515625 68.5 \nQ 23.6875 68.5 21.796875 66.546875 \nQ 19.921875 64.59375 19.921875 59.515625 \nL 19.921875 54.6875 \nL 34.71875 54.6875 \nL 34.71875 47.703125 \nL 19.921875 47.703125 \nL 19.921875 0 \nL 10.890625 0 \nL 10.890625 47.703125 \nL 2.296875 47.703125 \nL 2.296875 54.6875 \nL 10.890625 54.6875 \nL 10.890625 58.5 \nQ 10.890625 67.625 15.140625 71.796875 \nQ 19.390625 75.984375 28.609375 75.984375 \nz\n\" id=\"DejaVuSans-102\"/>\n       <path d=\"M 48.78125 52.59375 \nL 48.78125 44.1875 \nQ 44.96875 46.296875 41.140625 47.34375 \nQ 37.3125 48.390625 33.40625 48.390625 \nQ 24.65625 48.390625 19.8125 42.84375 \nQ 14.984375 37.3125 14.984375 27.296875 \nQ 14.984375 17.28125 19.8125 11.734375 \nQ 24.65625 6.203125 33.40625 6.203125 \nQ 37.3125 6.203125 41.140625 7.25 \nQ 44.96875 8.296875 48.78125 10.40625 \nL 48.78125 2.09375 \nQ 45.015625 0.34375 40.984375 -0.53125 \nQ 36.96875 -1.421875 32.421875 -1.421875 \nQ 20.0625 -1.421875 12.78125 6.34375 \nQ 5.515625 14.109375 5.515625 27.296875 \nQ 5.515625 40.671875 12.859375 48.328125 \nQ 20.21875 56 33.015625 56 \nQ 37.15625 56 41.109375 55.140625 \nQ 45.0625 54.296875 48.78125 52.59375 \nz\n\" id=\"DejaVuSans-99\"/>\n       <path d=\"M 18.3125 70.21875 \nL 18.3125 54.6875 \nL 36.8125 54.6875 \nL 36.8125 47.703125 \nL 18.3125 47.703125 \nL 18.3125 18.015625 \nQ 18.3125 11.328125 20.140625 9.421875 \nQ 21.96875 7.515625 27.59375 7.515625 \nL 36.8125 7.515625 \nL 36.8125 0 \nL 27.59375 0 \nQ 17.1875 0 13.234375 3.875 \nQ 9.28125 7.765625 9.28125 18.015625 \nL 9.28125 47.703125 \nL 2.6875 47.703125 \nL 2.6875 54.6875 \nL 9.28125 54.6875 \nL 9.28125 70.21875 \nz\n\" id=\"DejaVuSans-116\"/>\n       <path d=\"M 30.609375 48.390625 \nQ 23.390625 48.390625 19.1875 42.75 \nQ 14.984375 37.109375 14.984375 27.296875 \nQ 14.984375 17.484375 19.15625 11.84375 \nQ 23.34375 6.203125 30.609375 6.203125 \nQ 37.796875 6.203125 41.984375 11.859375 \nQ 46.1875 17.53125 46.1875 27.296875 \nQ 46.1875 37.015625 41.984375 42.703125 \nQ 37.796875 48.390625 30.609375 48.390625 \nz\nM 30.609375 56 \nQ 42.328125 56 49.015625 48.375 \nQ 55.71875 40.765625 55.71875 27.296875 \nQ 55.71875 13.875 49.015625 6.21875 \nQ 42.328125 -1.421875 30.609375 -1.421875 \nQ 18.84375 -1.421875 12.171875 6.21875 \nQ 5.515625 13.875 5.515625 27.296875 \nQ 5.515625 40.765625 12.171875 48.375 \nQ 18.84375 56 30.609375 56 \nz\n\" id=\"DejaVuSans-111\"/>\n       <path d=\"M 8.5 21.578125 \nL 8.5 54.6875 \nL 17.484375 54.6875 \nL 17.484375 21.921875 \nQ 17.484375 14.15625 20.5 10.265625 \nQ 23.53125 6.390625 29.59375 6.390625 \nQ 36.859375 6.390625 41.078125 11.03125 \nQ 45.3125 15.671875 45.3125 23.6875 \nL 45.3125 54.6875 \nL 54.296875 54.6875 \nL 54.296875 0 \nL 45.3125 0 \nL 45.3125 8.40625 \nQ 42.046875 3.421875 37.71875 1 \nQ 33.40625 -1.421875 27.6875 -1.421875 \nQ 18.265625 -1.421875 13.375 4.4375 \nQ 8.5 10.296875 8.5 21.578125 \nz\nM 31.109375 56 \nz\n\" id=\"DejaVuSans-117\"/>\n       <path d=\"M 44.28125 53.078125 \nL 44.28125 44.578125 \nQ 40.484375 46.53125 36.375 47.5 \nQ 32.28125 48.484375 27.875 48.484375 \nQ 21.1875 48.484375 17.84375 46.4375 \nQ 14.5 44.390625 14.5 40.28125 \nQ 14.5 37.15625 16.890625 35.375 \nQ 19.28125 33.59375 26.515625 31.984375 \nL 29.59375 31.296875 \nQ 39.15625 29.25 43.1875 25.515625 \nQ 47.21875 21.78125 47.21875 15.09375 \nQ 47.21875 7.46875 41.1875 3.015625 \nQ 35.15625 -1.421875 24.609375 -1.421875 \nQ 20.21875 -1.421875 15.453125 -0.5625 \nQ 10.6875 0.296875 5.421875 2 \nL 5.421875 11.28125 \nQ 10.40625 8.6875 15.234375 7.390625 \nQ 20.0625 6.109375 24.8125 6.109375 \nQ 31.15625 6.109375 34.5625 8.28125 \nQ 37.984375 10.453125 37.984375 14.40625 \nQ 37.984375 18.0625 35.515625 20.015625 \nQ 33.0625 21.96875 24.703125 23.78125 \nL 21.578125 24.515625 \nQ 13.234375 26.265625 9.515625 29.90625 \nQ 5.8125 33.546875 5.8125 39.890625 \nQ 5.8125 47.609375 11.28125 51.796875 \nQ 16.75 56 26.8125 56 \nQ 31.78125 56 36.171875 55.265625 \nQ 40.578125 54.546875 44.28125 53.078125 \nz\n\" id=\"DejaVuSans-115\"/>\n      </defs>\n      <use xlink:href=\"#DejaVuSans-73\"/>\n      <use x=\"29.492188\" xlink:href=\"#DejaVuSans-110\"/>\n      <use x=\"92.871094\" xlink:href=\"#DejaVuSans-102\"/>\n      <use x=\"128.076172\" xlink:href=\"#DejaVuSans-101\"/>\n      <use x=\"189.599609\" xlink:href=\"#DejaVuSans-99\"/>\n      <use x=\"244.580078\" xlink:href=\"#DejaVuSans-116\"/>\n      <use x=\"283.789062\" xlink:href=\"#DejaVuSans-105\"/>\n      <use x=\"311.572266\" xlink:href=\"#DejaVuSans-111\"/>\n      <use x=\"372.753906\" xlink:href=\"#DejaVuSans-117\"/>\n      <use x=\"436.132812\" xlink:href=\"#DejaVuSans-115\"/>\n     </g>\n    </g>\n   </g>\n   <g id=\"line2d_15\">\n    <path clip-path=\"url(#p7c02d349e9)\" d=\"M 69.869034 231.497527 \nL 76.485398 231.466023 \nL 83.101761 231.403015 \nL 89.718125 231.340006 \nL 96.334489 231.213989 \nL 102.950852 231.024963 \nL 109.567216 230.709921 \nL 116.18358 230.237357 \nL 122.799943 229.481255 \nL 129.416307 228.41011 \nL 136.03267 226.645871 \nL 142.649034 224.062522 \nL 149.265398 220.282011 \nL 155.881761 215.0208 \nL 162.498125 207.900837 \nL 169.114489 198.638585 \nL 175.730852 187.108026 \nL 182.347216 173.372169 \nL 188.96358 157.809066 \nL 195.579943 141.206321 \nL 202.196307 124.288534 \nL 208.81267 107.46526 \nL 215.429034 90.957028 \nL 222.045398 74.984369 \nL 228.661761 60.303384 \nL 235.278125 47.890706 \nL 241.894489 38.187394 \nL 248.510852 31.224953 \nL 255.127216 26.373297 \nL 261.74358 23.222871 \nL 268.359943 21.238103 \nL 274.976307 20.009437 \nL 281.59267 19.347847 \nL 288.209034 19.001301 \nL 294.825398 18.780771 \nL 301.441761 18.717762 \nL 308.058125 18.686258 \nL 314.674489 18.686258 \nL 321.290852 18.686258 \nL 327.907216 18.686258 \nL 334.52358 18.686258 \nL 341.139943 18.686258 \nL 347.756307 18.686258 \nL 354.37267 18.686258 \nL 360.989034 18.686258 \nL 367.605398 18.686258 \nL 374.221761 18.686258 \nL 380.838125 18.686258 \nL 387.454489 18.686258 \nL 394.070852 18.686258 \nL 400.687216 18.686258 \n\" style=\"fill:none;stroke:#1f77b4;stroke-linecap:square;stroke-width:1.5;\"/>\n   </g>\n   <g id=\"line2d_16\">\n    <path clip-path=\"url(#p7c02d349e9)\" d=\"M 69.869034 231.497527 \nL 76.485398 203.810158 \nL 83.101761 211.034525 \nL 89.718125 214.796665 \nL 96.334489 218.085723 \nL 102.950852 220.702705 \nL 109.567216 222.812189 \nL 116.18358 224.509392 \nL 122.799943 225.875253 \nL 129.416307 226.974429 \nL 136.03267 227.858998 \nL 142.649034 228.570845 \nL 149.265398 229.143705 \nL 155.881761 229.604712 \nL 162.498125 229.975709 \nL 169.114489 230.274267 \nL 175.730852 230.514532 \nL 182.347216 230.707885 \nL 188.96358 230.863485 \nL 195.579943 230.988704 \nL 202.196307 231.089475 \nL 208.81267 231.170569 \nL 215.429034 231.23583 \nL 222.045398 231.288346 \nL 228.661761 231.330539 \nL 235.278125 231.363886 \nL 241.894489 231.388747 \nL 248.510852 231.406219 \nL 255.127216 231.418536 \nL 261.74358 231.42727 \nL 268.359943 231.433374 \nL 274.976307 231.438045 \nL 281.59267 231.442383 \nL 288.209034 231.446612 \nL 294.825398 231.450625 \nL 301.441761 231.454907 \nL 308.058125 231.460352 \nL 314.674489 231.46753 \nL 321.290852 231.476167 \nL 327.907216 231.484873 \nL 334.52358 231.4919 \nL 341.139943 231.496509 \nL 347.756307 231.499368 \nL 354.37267 231.501031 \nL 360.989034 231.50197 \nL 367.605398 231.502493 \nL 374.221761 231.502785 \nL 380.838125 231.502949 \nL 387.454489 231.503041 \nL 394.070852 231.503094 \nL 400.687216 231.529032 \n\" style=\"fill:none;stroke:#1f77b4;stroke-dasharray:1.5,2.475;stroke-dashoffset:0;stroke-width:1.5;\"/>\n   </g>\n   <g id=\"line2d_17\">\n    <path clip-path=\"url(#p7c02d349e9)\" d=\"M 69.869034 231.497527 \nL 76.485398 231.466023 \nL 83.101761 231.403015 \nL 89.718125 231.340006 \nL 96.334489 231.213989 \nL 102.950852 231.024963 \nL 109.567216 230.709921 \nL 116.18358 230.205853 \nL 122.799943 229.512759 \nL 129.416307 228.41011 \nL 136.03267 226.740384 \nL 142.649034 224.283052 \nL 149.265398 220.786079 \nL 155.881761 216.06044 \nL 162.498125 209.885606 \nL 169.114489 202.198566 \nL 175.730852 192.873306 \nL 182.347216 182.067345 \nL 188.96358 170.221744 \nL 195.579943 157.809066 \nL 202.196307 145.333379 \nL 208.81267 133.046718 \nL 215.429034 120.823066 \nL 222.045398 108.914456 \nL 228.661761 97.005846 \nL 235.278125 85.097236 \nL 241.894489 73.283139 \nL 248.510852 61.784084 \nL 255.127216 51.198653 \nL 261.74358 42.062418 \nL 268.359943 34.595909 \nL 274.976307 28.988151 \nL 281.59267 24.924101 \nL 288.209034 22.246239 \nL 294.825398 20.639522 \nL 301.441761 19.694394 \nL 308.058125 19.127318 \nL 314.674489 18.875283 \nL 321.290852 18.717762 \nL 327.907216 18.654754 \nL 334.52358 18.591745 \nL 341.139943 18.591745 \nL 347.756307 18.560241 \nL 354.37267 18.591745 \nL 360.989034 18.560241 \nL 367.605398 18.591745 \nL 374.221761 18.560241 \nL 380.838125 18.591745 \nL 387.454489 18.560241 \nL 394.070852 18.591745 \nL 400.687216 18.560241 \n\" style=\"fill:none;stroke:#ff7f0e;stroke-linecap:square;stroke-width:1.5;\"/>\n   </g>\n   <g id=\"line2d_18\">\n    <path clip-path=\"url(#p7c02d349e9)\" d=\"M 69.869034 231.497527 \nL 76.485398 231.529032 \nL 83.101761 231.529032 \nL 89.718125 231.529032 \nL 96.334489 231.529032 \nL 102.950852 231.529032 \nL 109.567216 231.529032 \nL 116.18358 231.529032 \nL 122.799943 231.529032 \nL 129.416307 231.529032 \nL 136.03267 231.529032 \nL 142.649034 231.529032 \nL 149.265398 231.529032 \nL 155.881761 231.529032 \nL 162.498125 231.529032 \nL 169.114489 231.529032 \nL 175.730852 231.529032 \nL 182.347216 231.529032 \nL 188.96358 231.529032 \nL 195.579943 231.529032 \nL 202.196307 231.529032 \nL 208.81267 231.529032 \nL 215.429034 231.529032 \nL 222.045398 231.529032 \nL 228.661761 231.529032 \nL 235.278125 231.529032 \nL 241.894489 231.529032 \nL 248.510852 231.529032 \nL 255.127216 231.529032 \nL 261.74358 231.529032 \nL 268.359943 231.529032 \nL 274.976307 231.529032 \nL 281.59267 231.529032 \nL 288.209034 231.529032 \nL 294.825398 231.528575 \nL 301.441761 231.525832 \nL 308.058125 231.522416 \nL 314.674489 231.519304 \nL 321.290852 231.51645 \nL 327.907216 231.514056 \nL 334.52358 231.512195 \nL 341.139943 231.510802 \nL 347.756307 231.509778 \nL 354.37267 231.509035 \nL 360.989034 231.508467 \nL 367.605398 231.50803 \nL 374.221761 231.507697 \nL 380.838125 231.507442 \nL 387.454489 231.507249 \nL 394.070852 231.507102 \nL 400.687216 231.529032 \n\" style=\"fill:none;stroke:#ff7f0e;stroke-dasharray:1.5,2.475;stroke-dashoffset:0;stroke-width:1.5;\"/>\n   </g>\n   <g id=\"patch_3\">\n    <path d=\"M 53.328125 242.177471 \nL 53.328125 7.911801 \n\" style=\"fill:none;stroke:#000000;stroke-linecap:square;stroke-linejoin:miter;stroke-width:0.8;\"/>\n   </g>\n   <g id=\"patch_4\">\n    <path d=\"M 417.228125 242.177471 \nL 417.228125 7.911801 \n\" style=\"fill:none;stroke:#000000;stroke-linecap:square;stroke-linejoin:miter;stroke-width:0.8;\"/>\n   </g>\n   <g id=\"patch_5\">\n    <path d=\"M 53.328125 242.177471 \nL 417.228125 242.177471 \n\" style=\"fill:none;stroke:#000000;stroke-linecap:square;stroke-linejoin:miter;stroke-width:0.8;\"/>\n   </g>\n   <g id=\"patch_6\">\n    <path d=\"M 53.328125 7.911801 \nL 417.228125 7.911801 \n\" style=\"fill:none;stroke:#000000;stroke-linecap:square;stroke-linejoin:miter;stroke-width:0.8;\"/>\n   </g>\n   <g id=\"legend_1\">\n    <g id=\"patch_7\">\n     <path d=\"M 60.328125 45.268051 \nL 98.690625 45.268051 \nQ 100.690625 45.268051 100.690625 43.268051 \nL 100.690625 14.911801 \nQ 100.690625 12.911801 98.690625 12.911801 \nL 60.328125 12.911801 \nQ 58.328125 12.911801 58.328125 14.911801 \nL 58.328125 43.268051 \nQ 58.328125 45.268051 60.328125 45.268051 \nz\n\" style=\"fill:#ffffff;opacity:0.8;stroke:#cccccc;stroke-linejoin:miter;\"/>\n    </g>\n    <g id=\"line2d_19\">\n     <path d=\"M 62.328125 21.010239 \nL 82.328125 21.010239 \n\" style=\"fill:none;stroke:#1f77b4;stroke-linecap:square;stroke-width:1.5;\"/>\n    </g>\n    <g id=\"line2d_20\"/>\n    <g id=\"text_17\">\n     <!-- 0 -->\n     <g transform=\"translate(90.328125 24.510239)scale(0.1 -0.1)\">\n      <use xlink:href=\"#DejaVuSans-48\"/>\n     </g>\n    </g>\n    <g id=\"line2d_21\">\n     <path d=\"M 62.328125 35.688364 \nL 82.328125 35.688364 \n\" style=\"fill:none;stroke:#ff7f0e;stroke-linecap:square;stroke-width:1.5;\"/>\n    </g>\n    <g id=\"line2d_22\"/>\n    <g id=\"text_18\">\n     <!-- 1 -->\n     <g transform=\"translate(90.328125 39.188364)scale(0.1 -0.1)\">\n      <use xlink:href=\"#DejaVuSans-49\"/>\n     </g>\n    </g>\n   </g>\n  </g>\n </g>\n <defs>\n  <clipPath id=\"p7c02d349e9\">\n   <rect height=\"234.26567\" width=\"363.9\" x=\"53.328125\" y=\"7.911801\"/>\n  </clipPath>\n </defs>\n</svg>\n",
      "image/png": "[encoded data removed]"
     },
     "metadata": {
      "needs_background": "light"
     }
    }
   ],
   "source": [
    "plot_output(label_sum, output_sum, output_pdf.format(N = SYSTEM_SIZE, T = TIME_LENGTH, M = MODEL, L = LABEL, trial = TRIAL))"
   ]
  },
  {
   "cell_type": "code",
   "execution_count": null,
   "metadata": {},
   "outputs": [],
   "source": []
  },
  {
   "cell_type": "code",
   "execution_count": null,
   "metadata": {},
   "outputs": [],
   "source": []
  },
  {
   "cell_type": "code",
   "execution_count": null,
   "metadata": {},
   "outputs": [],
   "source": []
  }
 ],
 "metadata": {
  "kernelspec": {
   "name": "python3",
   "display_name": "Python 3.8.5 64-bit",
   "metadata": {
    "interpreter": {
     "hash": "e7370f93d1d0cde622a1f8e1c04877d8463912d04d973331ad4851f04de6915a"
    }
   }
  },
  "language_info": {
   "codemirror_mode": {
    "name": "ipython",
    "version": 3
   },
   "file_extension": ".py",
   "mimetype": "text/x-python",
   "name": "python",
   "nbconvert_exporter": "python",
   "pygments_lexer": "ipython3",
   "version": "3.8.5-final"
  }
 },
 "nbformat": 4,
 "nbformat_minor": 4
}